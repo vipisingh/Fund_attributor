{
 "cells": [
  {
   "cell_type": "markdown",
   "metadata": {},
   "source": [
    "I'm going to make an undirected graph that we'll use to demonstrate network measures. "
   ]
  },
  {
   "cell_type": "code",
   "execution_count": 1,
   "metadata": {
    "collapsed": true
   },
   "outputs": [],
   "source": [
    "import networkx as nx\n",
    "\n",
    "G = nx.Graph()\n",
    "\n",
    "G.add_edges_from(\n",
    "    [\n",
    "        (\"a\", \"b\"),\n",
    "        (\"a\", \"d\"),\n",
    "        (\"a\", \"f\"),\n",
    "        (\"b\", \"g\"),\n",
    "        (\"b\", \"d\"),\n",
    "        (\"b\", \"a\"),\n",
    "        (\"b\", \"e\"),\n",
    "        (\"c\", \"d\"),\n",
    "        (\"c\", \"h\"),\n",
    "        (\"d\", \"a\"),\n",
    "        (\"d\", \"b\"),\n",
    "        (\"d\", \"c\"),\n",
    "        (\"d\", \"e\"),\n",
    "        (\"d\", \"f\"),\n",
    "        (\"d\", \"g\"),\n",
    "        (\"e\", \"b\"),\n",
    "        (\"e\", \"d\"),\n",
    "        (\"e\", \"g\"),\n",
    "        (\"f\", \"a\"),\n",
    "        (\"f\", \"d\"),\n",
    "        (\"f\", \"g\"),\n",
    "        (\"f\", \"h\"),\n",
    "        (\"g\", \"e\"),\n",
    "        (\"g\", \"b\"),\n",
    "        (\"g\", \"f\"),\n",
    "        (\"g\", \"h\"),\n",
    "        (\"h\", \"g\"),\n",
    "        (\"h\", \"f\"),\n",
    "        (\"h\", \"c\"),\n",
    "        (\"h\", \"r\"),\n",
    "        (\"h\", \"i\"),\n",
    "        (\"i\", \"h\"),\n",
    "        (\"i\", \"p\"),\n",
    "        (\"i\", \"j\"),\n",
    "        (\"i\", \"n\"),\n",
    "        (\"j\", \"p\"),\n",
    "        (\"j\", \"m\"),\n",
    "        (\"j\", \"l\"),\n",
    "        (\"j\", \"k\"),\n",
    "        (\"j\", \"o\"),\n",
    "        (\"j\", \"n\"),\n",
    "        (\"j\", \"i\"),\n",
    "        (\"k\", \"j\"),\n",
    "        (\"k\", \"l\"),\n",
    "        (\"k\", \"p\"),\n",
    "        (\"l\", \"m\"),\n",
    "        (\"l\", \"k\"),\n",
    "        (\"l\", \"j\"),\n",
    "        (\"m\", \"l\"),\n",
    "        (\"m\", \"j\"),\n",
    "        (\"m\", \"q\"),\n",
    "        (\"n\", \"i\"),\n",
    "        (\"n\", \"j\"),\n",
    "        (\"n\", \"o\"),\n",
    "        (\"o\", \"n\"),\n",
    "        (\"o\", \"j\"),\n",
    "        (\"p\", \"i\"),\n",
    "        (\"p\", \"j\"),\n",
    "        (\"p\", \"k\"),\n",
    "        (\"q\", \"m\"),\n",
    "        (\"q\", \"s\"),\n",
    "        (\"r\", \"h\"),\n",
    "        (\"s\", \"q\")   \n",
    "    ]\n",
    ")"
   ]
  },
  {
   "cell_type": "code",
   "execution_count": 2,
   "metadata": {
    "collapsed": false
   },
   "outputs": [
    {
     "data": {
      "image/png": "[encoded data removed]",
      "text/plain": [
       "<matplotlib.figure.Figure at 0x1881d5a3f98>"
      ]
     },
     "metadata": {},
     "output_type": "display_data"
    }
   ],
   "source": [
    "%matplotlib inline\n",
    "import matplotlib.pyplot as plt\n",
    "\n",
    "pos = nx.spring_layout(G, iterations=100)\n",
    "nx.draw_networkx_nodes(G, pos, node_size = 300)\n",
    "nx.draw_networkx_edges(G, pos)\n",
    "nx.draw_networkx_labels(G, pos, font_size=10)\n",
    "plt.axis(\"off\")\n",
    "plt.show()"
   ]
  },
  {
   "cell_type": "markdown",
   "metadata": {},
   "source": [
    "The degree of a node is simply a count of the number of edges a node has. Using the ``degree`` method on a graph, you can discover the degree of any given node. "
   ]
  },
  {
   "cell_type": "code",
   "execution_count": 3,
   "metadata": {
    "collapsed": false
   },
   "outputs": [
    {
     "data": {
      "text/plain": [
       "3"
      ]
     },
     "execution_count": 3,
     "metadata": {},
     "output_type": "execute_result"
    }
   ],
   "source": [
    "G.degree(\"k\")"
   ]
  },
  {
   "cell_type": "markdown",
   "metadata": {},
   "source": [
    "When dealing withi a directed network, we must distinguish edges that originate **from** a node from edges that point **to** a node. The **outdegree** of a node is a count of the number of edges originating from a node, and the **indegree** is the number of edges that point to a node. \n",
    "\n",
    "I'm going to use a networkx function to generate a random directed graph."
   ]
  },
  {
   "cell_type": "code",
   "execution_count": 4,
   "metadata": {
    "collapsed": false
   },
   "outputs": [],
   "source": [
    "DG = nx.erdos_renyi_graph(100, 0.4, directed=True)"
   ]
  },
  {
   "cell_type": "code",
   "execution_count": 5,
   "metadata": {
    "collapsed": false
   },
   "outputs": [
    {
     "name": "stdout",
     "output_type": "stream",
     "text": [
      "51\n",
      "49\n"
     ]
    }
   ],
   "source": [
    "# indegree of node 37\n",
    "print(DG.in_degree(37))\n",
    "# outdegree of node 37\n",
    "print(DG.out_degree(37))"
   ]
  },
  {
   "cell_type": "markdown",
   "metadata": {},
   "source": [
    "Note that it's totally feasible for a node to have very different indegrees and outdegrees.\n",
    "\n",
    "If we're dealing with a **weighted** network, each of the edges has a number corresponding to that edge's weight. In this scenario, the degree of a node is the **sum of the weights of the edges that node is connected to**. \n",
    "\n",
    "I'll generate an undirected, weighted graph. "
   ]
  },
  {
   "cell_type": "code",
   "execution_count": 6,
   "metadata": {
    "collapsed": true
   },
   "outputs": [],
   "source": [
    "import numpy as np\n",
    "WG = nx.erdos_renyi_graph(100, 0.4)\n",
    "for edge in WG.edges():\n",
    "    WG.edge[edge[0]][edge[1]]['weight'] = np.random.randint(0, 10)"
   ]
  },
  {
   "cell_type": "markdown",
   "metadata": {},
   "source": [
    "We can get the weighted degree of a node by specifying the **name of the edge attribute that contains the weight**. In our case, the name of this attribute is ``weight``. "
   ]
  },
  {
   "cell_type": "code",
   "execution_count": 7,
   "metadata": {
    "collapsed": false
   },
   "outputs": [
    {
     "data": {
      "text/plain": [
       "{3: {'weight': 8},\n",
       " 4: {'weight': 1},\n",
       " 18: {'weight': 5},\n",
       " 22: {'weight': 9},\n",
       " 23: {'weight': 0},\n",
       " 24: {'weight': 4},\n",
       " 27: {'weight': 4},\n",
       " 30: {'weight': 8},\n",
       " 31: {'weight': 6},\n",
       " 35: {'weight': 1},\n",
       " 36: {'weight': 1},\n",
       " 38: {'weight': 4},\n",
       " 44: {'weight': 3},\n",
       " 49: {'weight': 0},\n",
       " 51: {'weight': 6},\n",
       " 55: {'weight': 1},\n",
       " 57: {'weight': 4},\n",
       " 59: {'weight': 8},\n",
       " 61: {'weight': 4},\n",
       " 63: {'weight': 9},\n",
       " 67: {'weight': 1},\n",
       " 68: {'weight': 9},\n",
       " 70: {'weight': 7},\n",
       " 74: {'weight': 3},\n",
       " 79: {'weight': 4},\n",
       " 80: {'weight': 6},\n",
       " 82: {'weight': 0},\n",
       " 83: {'weight': 0},\n",
       " 85: {'weight': 7},\n",
       " 89: {'weight': 5},\n",
       " 90: {'weight': 7},\n",
       " 92: {'weight': 2},\n",
       " 93: {'weight': 3},\n",
       " 94: {'weight': 6},\n",
       " 95: {'weight': 2},\n",
       " 97: {'weight': 1},\n",
       " 98: {'weight': 7}}"
      ]
     },
     "execution_count": 7,
     "metadata": {},
     "output_type": "execute_result"
    }
   ],
   "source": [
    "# The edges of node 37\n",
    "WG.edge[37]"
   ]
  },
  {
   "cell_type": "markdown",
   "metadata": {},
   "source": [
    "What is the degree of node 37?"
   ]
  },
  {
   "cell_type": "code",
   "execution_count": 8,
   "metadata": {
    "collapsed": false
   },
   "outputs": [
    {
     "data": {
      "text/plain": [
       "156"
      ]
     },
     "execution_count": 8,
     "metadata": {},
     "output_type": "execute_result"
    }
   ],
   "source": [
    "WG.degree(37, weight=\"weight\") # designate the name of the edge attribute with the parameter weight"
   ]
  },
  {
   "cell_type": "markdown",
   "metadata": {},
   "source": [
    "# Degree Centrality\n",
    "\n",
    "One way we can quantify the importance of a node is to simply take into account how many edges they have. A node with a lot of edges is important, a node with fewer edges is less important. \n",
    "\n",
    "The networkx function ``degree_centrality`` calculates the *normalized degree* for every node in a graph. It is normalized by the highest number of connections a node may possibly have: if the number of nodes in a network is $n$, then degree centrality is normalized by $n-1$."
   ]
  },
  {
   "cell_type": "code",
   "execution_count": 9,
   "metadata": {
    "collapsed": false
   },
   "outputs": [
    {
     "data": {
      "text/plain": [
       "{'a': 0.16666666666666666,\n",
       " 'b': 0.2222222222222222,\n",
       " 'c': 0.1111111111111111,\n",
       " 'd': 0.3333333333333333,\n",
       " 'e': 0.16666666666666666,\n",
       " 'f': 0.2222222222222222,\n",
       " 'g': 0.2777777777777778,\n",
       " 'h': 0.2777777777777778,\n",
       " 'i': 0.2222222222222222,\n",
       " 'j': 0.38888888888888884,\n",
       " 'k': 0.16666666666666666,\n",
       " 'l': 0.16666666666666666,\n",
       " 'm': 0.16666666666666666,\n",
       " 'n': 0.16666666666666666,\n",
       " 'o': 0.1111111111111111,\n",
       " 'p': 0.16666666666666666,\n",
       " 'q': 0.1111111111111111,\n",
       " 'r': 0.05555555555555555,\n",
       " 's': 0.05555555555555555}"
      ]
     },
     "execution_count": 9,
     "metadata": {},
     "output_type": "execute_result"
    }
   ],
   "source": [
    "nx.degree_centrality(G)"
   ]
  },
  {
   "cell_type": "markdown",
   "metadata": {},
   "source": [
    "Here, we can see that the \"most important\" node, in terms of Degree Centrality, is node \"j\", which has a normalized degree centrality of 0.39. "
   ]
  },
  {
   "cell_type": "code",
   "execution_count": 10,
   "metadata": {
    "collapsed": false
   },
   "outputs": [
    {
     "data": {
      "image/png": "[encoded data removed]",
      "text/plain": [
       "<matplotlib.figure.Figure at 0x1881d5a3ef0>"
      ]
     },
     "metadata": {},
     "output_type": "display_data"
    }
   ],
   "source": [
    "nx.draw_networkx_nodes(G, pos, node_size = 300)\n",
    "nx.draw_networkx_edges(G, pos)\n",
    "nx.draw_networkx_labels(G, pos, font_size=10)\n",
    "plt.axis(\"off\")\n",
    "plt.show()"
   ]
  },
  {
   "cell_type": "code",
   "execution_count": 11,
   "metadata": {
    "collapsed": false
   },
   "outputs": [
    {
     "data": {
      "text/plain": [
       "7"
      ]
     },
     "execution_count": 11,
     "metadata": {},
     "output_type": "execute_result"
    }
   ],
   "source": [
    "G.degree(\"j\")"
   ]
  },
  {
   "cell_type": "markdown",
   "metadata": {},
   "source": [
    "We can see in the graph visualization that node j is indeed connected to many other nodes, and it has a degree of 7, the highest in the graph. \n",
    "\n",
    "The *meaning* of degree centrality is highly dependent on what your network represents, and what you consider to be an indication of *importance*. Let's look at a few examples\n",
    "\n",
    "* A Facebook Friend Network: nodes are Facebook users, and a link exists between two users if they are Facebook friends. Degree centrality represents *how popular* a person is. The higher the centrality, the more friends the user has. \n",
    "* A Network of intervenous drug users: Let's say you're a health official and you've conducted some anthropological research on IV drug users in your city. Nodes are IV drug users, and an edge exists if two people have reported they share needles. The person with the highest degree centrality is the person who shares needles with the most people; a potential candidate for an intervention like a clean needle program.\n",
    "* Hashtag Cooccurrence: A node is a hashtag, and an edge exists between two hashtags if they have been used together in the same tweet. The hashtag with the highest degree centrality is a *versatile* hashtag; it can be used in many situations and therefore is used with many different other hashtags.\n",
    "\n",
    "# Other Measures of Centrality\n",
    "\n",
    "## Closeness Centrality\n",
    "\n",
    "Degree centrality may strike you as important in only *some* situations. Is the person with the most links *truly* the most important person in the network? It depends on your research interest: not necessarily. \n",
    "\n",
    "You've probably heard of the game \"Six Degrees of Kevin Bacon\". In this game, someone names an actor - any actor. Then, starting from that actor, the players try to name someone that this actor has acted with in a movie: let's call that person actor B. Then, you find a person who has acted with actor B in a movie: actor C. You do this until you finally arrive at Kevin Bacon. The goal is to take less than six steps (degrees) to find Kevin Bacon. \n",
    "\n",
    "In this game, importance is not defined by degree centrality: the number of people a person has acted with. Instead, there is another measure, called **closeness centrality**, which is a measure of how close a node is to **all other nodes in the network**.\n",
    "\n",
    "Closeness centrality is calculated as such: for the selected node, **find the length of the shortest path between it and all other nodes**. Then, take the average of those lengths. This average is normalized by dividing the **longest possible path in the network** by this average. For a given network with $n$ nodes, the longest possible path is $n-1$ (a hypothetical scenario where if you had to get from node A to B, you have to cross through *all other nodes* in the network). The reason for this normalization is to get the scale right: a higher number means the node is **closer** to other nodes, a lower number means a node is **further away**."
   ]
  },
  {
   "cell_type": "code",
   "execution_count": 12,
   "metadata": {
    "collapsed": false
   },
   "outputs": [
    {
     "data": {
      "text/plain": [
       "{'a': 0.2903225806451613,\n",
       " 'b': 0.29508196721311475,\n",
       " 'c': 0.34615384615384615,\n",
       " 'd': 0.3050847457627119,\n",
       " 'e': 0.2903225806451613,\n",
       " 'f': 0.36,\n",
       " 'g': 0.3673469387755102,\n",
       " 'h': 0.45,\n",
       " 'i': 0.46153846153846156,\n",
       " 'j': 0.42857142857142855,\n",
       " 'k': 0.3157894736842105,\n",
       " 'l': 0.32727272727272727,\n",
       " 'm': 0.3333333333333333,\n",
       " 'n': 0.375,\n",
       " 'o': 0.3103448275862069,\n",
       " 'p': 0.375,\n",
       " 'q': 0.2608695652173913,\n",
       " 'r': 0.3157894736842105,\n",
       " 's': 0.20930232558139536}"
      ]
     },
     "execution_count": 12,
     "metadata": {},
     "output_type": "execute_result"
    }
   ],
   "source": [
    "nx.closeness_centrality(G)"
   ]
  },
  {
   "cell_type": "markdown",
   "metadata": {},
   "source": [
    "Here, we see node i is the degree with the highest closeness centrality."
   ]
  },
  {
   "cell_type": "code",
   "execution_count": 13,
   "metadata": {
    "collapsed": false
   },
   "outputs": [
    {
     "data": {
      "image/png": "[encoded data removed]",
      "text/plain": [
       "<matplotlib.figure.Figure at 0x1882050fcf8>"
      ]
     },
     "metadata": {},
     "output_type": "display_data"
    }
   ],
   "source": [
    "nx.draw_networkx_nodes(G, pos, node_size = 300)\n",
    "nx.draw_networkx_edges(G, pos)\n",
    "nx.draw_networkx_labels(G, pos, font_size=10)\n",
    "plt.axis(\"off\")\n",
    "plt.show()"
   ]
  },
  {
   "cell_type": "markdown",
   "metadata": {},
   "source": [
    "It doesn't have the highest degree, but it is closer to all the other nodes on average than the node with the highest degree centrality, j.\n",
    "\n",
    "* A Facebook friend network: the person with the highest closeness centrality is the person who is a short distance from *all* the people in the network. If the person with the highest degree centrality shares a post, it will be exposed to *more people*, while if the person with the highest closeness centrality shares a post, it has a higher potential to *eventually be seen by everyone in the network*.\n",
    "* An IV user network: if this person contracts a disease from IV drug usage, there's more of a risk that everyone in the network will also contract the disease in a shorter period of time. \n",
    "* A hashtag cooccurence network: the hashtag with the highest closeness centrality is not necessarily popular, but it is probably *very general and non-specific*. It has the shortest distance to hashtags about politics, fashion, food, cities, etc., so it must have a very broad meaning.\n",
    "\n",
    "**AN IMPORTANT NOTE ON RUNTIME:** closeness centrality calculation **scales very poorly with network size**. To get the closeness centrality of *every node* in a network, you need to calculate $\\frac{n \\cdot (n-1)}{2}$ distances. Furthermore, you need to find the *shortest* distance, and the larger the network, the more possible paths there are between two given nodes. If your graph has 100,000 nodes, it needs to calculate 4,999,950,000 distances, and for each distance, it may have to explore a very large number of paths. *If you have a very large network,* using ``closeness_centrality`` may take a very long time. You may have to settle for calculating the closeness centrality of a subset of nodes.\n",
    "\n",
    "## Betweenness Centrality"
   ]
  },
  {
   "cell_type": "markdown",
   "metadata": {
    "collapsed": true
   },
   "source": [
    "In degree centrality, emphasis is placed on how many links a node has. In closeness centrality, emphasis is on how close a node is to all other nodes in the network. For betweenness centrality, what makes a node important is *how in-between* it is.\n",
    "\n",
    "The first step in calculating betweenness centrality is taking *every pair of nodes* and finding the shortest path between them. Once this is accomplished, to find the betweenness centrality of a given node, calculate *the fraction of all these shotest paths that include this node*. \n",
    "\n",
    "Intuitively, a node $X$ has a high betweenness centrality if when traveling from one node to another node in a network, one often has to pass through node $X$. We can conceptualize nodes with high betweenness centrality as *bridge nodes*. To cross from one area of the network to another, you have to go through these nodes. "
   ]
  },
  {
   "cell_type": "code",
   "execution_count": 14,
   "metadata": {
    "collapsed": false
   },
   "outputs": [
    {
     "data": {
      "text/plain": [
       "{'a': 0.0021786492374727667,\n",
       " 'b': 0.005446623093681917,\n",
       " 'c': 0.026143790849673193,\n",
       " 'd': 0.037037037037037035,\n",
       " 'e': 0.0,\n",
       " 'f': 0.10675381263616555,\n",
       " 'g': 0.18845315904139442,\n",
       " 'h': 0.5751633986928105,\n",
       " 'i': 0.5326797385620915,\n",
       " 'j': 0.434640522875817,\n",
       " 'k': 0.0032679738562091504,\n",
       " 'l': 0.00980392156862745,\n",
       " 'm': 0.20915032679738563,\n",
       " 'n': 0.032679738562091505,\n",
       " 'o': 0.0,\n",
       " 'p': 0.032679738562091505,\n",
       " 'q': 0.11111111111111112,\n",
       " 'r': 0.0,\n",
       " 's': 0.0}"
      ]
     },
     "execution_count": 14,
     "metadata": {},
     "output_type": "execute_result"
    }
   ],
   "source": [
    "nx.betweenness_centrality(G)"
   ]
  },
  {
   "cell_type": "markdown",
   "metadata": {},
   "source": [
    "The node with the highest betweenness centrality is h. "
   ]
  },
  {
   "cell_type": "code",
   "execution_count": 15,
   "metadata": {
    "collapsed": false
   },
   "outputs": [
    {
     "data": {
      "image/png": "[encoded data removed]",
      "text/plain": [
       "<matplotlib.figure.Figure at 0x18820521630>"
      ]
     },
     "metadata": {},
     "output_type": "display_data"
    }
   ],
   "source": [
    "nx.draw_networkx_nodes(G, pos, node_size = 300)\n",
    "nx.draw_networkx_edges(G, pos)\n",
    "nx.draw_networkx_labels(G, pos, font_size=10)\n",
    "plt.axis(\"off\")\n",
    "plt.show()"
   ]
  },
  {
   "cell_type": "markdown",
   "metadata": {},
   "source": [
    "Recall that the node with the highest **closeness centrality** is node i. It is, on average, closer to all other nodes in the network. However, h has a higher **betweenness centrality**. In particular, we can see that in order to reach node r from *any other node*, one most pass through h. Node h is the \"gate keeper,\" so to speak. \n",
    "\n",
    "Note, also, that node i also has a high betweenness centrality. This is obvious for both h and i, as they are the only nodes that link the community centered on node j to the community centered on node d. If one wants to travel from one community to the other, one *must* travel through nodes i and h. There is no alternative.\n",
    "\n",
    "Node j, too, also has a high betweenness centrality. Nodes k, l, m, o, and n most first pass through j before they can get to node i.\n",
    "\n",
    "Finally, node m has a high betweenness centrality, despite not having a high degree centrality or closeness centrality. Note that the only way to get to nodes q and s are through node m.\n",
    "\n",
    "* A Facebook friend network: a person with a high betweenness centrality is a person who tends to *link different communities*. Let's say students in the chemistry department tend to know each other well and be Facebook friends - same for students in the art department. There may be a unique student majoring in both chemistry and art, and is friends with people from both departments. For information traveling from a chemistry student to an art student, it will probably go through the double major student. This student will have a high betweenness centrality.\n",
    "* An IV drug user network: you might notice in your IV data that people in neighborhood A tend to share needles among themselves, and people in neighbor B tend to share needles among themselves. You might notice an individual with high betweenness centrality who shares needles with a person in neighborhood B and neighborhood A. This person may not have a high degree centrality, but they will have a high betweenness centrality. If there is a high prevalence of disease in neighborhood A, but not in B, you will have to focus on this person who goes to both.\n",
    "* A Hashtag Cooccurrence network: a hashtag with high betweenness centrality will be one that tends to occur alongside unexpected combinations of hashtags. Politics hashtags tend to cluster together, and food hashtags tend to cluster together. Let's say you identify a hashtag #blockLaw1234 that tends to occur with *both* politics and food hashtags. It will have a high betweenness centrality. Maybe this is a law about putting tariffs on imported foodstuffs. It plays a unique role in the network.\n",
    "\n",
    "**AN IMPORTANT NOTE ON RUNTIME:** calculating betweenness centrality has the same problem as closeness centrality. It scales poorly with network size. Fortunately, in networkx's implementation, there is an additional parameter you can pass called ``k``, that takes an integer. If you pass ``k`` to ``betweenness_centrality``, networkx will attempt to **estimate** the betweenness centrality from ``k`` samples, instead of all them. This will be an estimation; the higher ``k`` is, the more accurate the estimation, but the more time it will take.\n",
    "\n",
    "## Eigenvector Centrality\n",
    "\n",
    "Degree Centrality asserts that a node is more important - more central - in a network if it has a high degree. However, this type of assertion does not hold in a number of scenarios.\n",
    "\n",
    "Take academic research, for example. A paper may be cited thousands of times, but if it is cited by *unimportant papers* then these citations don't count for much. However, a different paper may be cited only a few times, but if it is cited by *important papers by important authors*, then those citations should be considered as valuable.\n",
    "\n",
    "In other words, perhaps we shouldn't consider all links pointing to a node equal. Some links should be considered more important than others.\n",
    "\n",
    "There's a lot of math behind Eigenvector centrality, but the basic idea is that **if a node receives a link from another node that itself has many links, that link should be more important**.\n",
    "\n",
    "The most intuitive way to illustrate this is to talk a bit about Google's PageRank algorithm, which is used to display and rank Google Search results. It's a variation of Eigenvector centrality.\n",
    "\n",
    "If your webpage A receives 1000 incoming links from minor cites that no one visits, but page B receives 5 incoming links from prestigious web pages like the BBC and the New York Times, which page should be ranked higher? Page B, obviously, because the links it receives are more prestigious and reliable.\n",
    "\n",
    "Here is an illustration of PageRank at work.\n",
    "\n",
    "<img src=\"https://upload.wikimedia.org/wikipedia/commons/f/fb/PageRanks-Example.svg\">\n",
    "\n",
    "Note that node B has an indegree of 6, and so does node E. However, PageRank gives a higher score to B because it receives incoming links from higher rated nodes, while node E receives incoming links mostly from minor nodes that themselves have no incoming links.\n",
    "\n",
    "Note also, that node C has an indegree of 1, but because that incoming node is from an extremely important node, its PageRank is quite high.\n",
    "\n",
    "Here's how we calculate Eigenvector Centrality using NetworkX:"
   ]
  },
  {
   "cell_type": "code",
   "execution_count": 16,
   "metadata": {
    "collapsed": false
   },
   "outputs": [
    {
     "data": {
      "text/plain": [
       "{'a': 0.28618176306341425,\n",
       " 'b': 0.35996294011123425,\n",
       " 'c': 0.18140671187622603,\n",
       " 'd': 0.46467020048465585,\n",
       " 'e': 0.3040836189463251,\n",
       " 'f': 0.3548434410782794,\n",
       " 'g': 0.4286246181260994,\n",
       " 'h': 0.28298333308967794,\n",
       " 'i': 0.1327556499891029,\n",
       " 'j': 0.11722740340935621,\n",
       " 'k': 0.059696930852567005,\n",
       " 'l': 0.05366165312911117,\n",
       " 'm': 0.04423183819559999,\n",
       " 'n': 0.07178371718524408,\n",
       " 'o': 0.04586179444984825,\n",
       " 'p': 0.07514071770955313,\n",
       " 'q': 0.01140392759564362,\n",
       " 'r': 0.06866167801486518,\n",
       " 's': 0.002767084867422452}"
      ]
     },
     "execution_count": 16,
     "metadata": {},
     "output_type": "execute_result"
    }
   ],
   "source": [
    "nx.eigenvector_centrality(G)"
   ]
  },
  {
   "cell_type": "markdown",
   "metadata": {},
   "source": [
    "Node d has the highest eigenvector centrality (0.46), followed by node g (0.42) and node b (0.36)."
   ]
  },
  {
   "cell_type": "code",
   "execution_count": 17,
   "metadata": {
    "collapsed": false
   },
   "outputs": [
    {
     "data": {
      "image/png": "[encoded data removed]",
      "text/plain": [
       "<matplotlib.figure.Figure at 0x188206a50b8>"
      ]
     },
     "metadata": {},
     "output_type": "display_data"
    }
   ],
   "source": [
    "nx.draw_networkx_nodes(G, pos, node_size = 300)\n",
    "nx.draw_networkx_edges(G, pos)\n",
    "nx.draw_networkx_labels(G, pos, font_size=10)\n",
    "plt.axis(\"off\")\n",
    "plt.show()"
   ]
  },
  {
   "cell_type": "markdown",
   "metadata": {},
   "source": [
    "Node d and node j have similar degrees, but node d's eigenvector centrality is much higher. The nodes that \"support\" node j by linking to it themselves don't have many links, while the nodes that \"support\" node d have more incoming links, so their \"support\" counts for more. \n",
    "\n",
    "* A Facebook friend network: a user with a high eigenvector centrality is \"friends with people who themselves have a lot of friends.\" Using eigenvector centrality, we can differentiate two different types of \"popularity.\" If someone has a high degree centrality but a low eigenvector centrality, they have a lot of friends, but those friends don't possess a lot of connections themselves.\n",
    "* An IV drug user network: a user with a high eigenvector centrality is someone who shares needles with other people who share a lot of needles. This are very high-risk individuals. Someone who has a high degree centrality may be at low risk *if* the people they share needles with do not themselves share with many other people.\n",
    "* A hashtag cooccurrence network: a hashtag with a high eigenvector centrality is a hashtag that is used often with *other* popular hashtags. Such a hashtag may not have a high degree centrality, but in that case the few hashtags it does occur with are popular and widely used. \n",
    "\n",
    "# Correlations between centrality types\n",
    "\n",
    "Sometimes, centralities are *correlated*, in that a node with a high degree centrality may also have a high closeness, betweenness, and eigenvector centrality. Imagine a tightly knit community with one person dominating in the center of the network. This person may have high degree centrality (they have a lot of links), closeness centrality (they are the person closest to everyone else), betweenness centrality (to get from A to B, you have to pass through them) and eigenvector centrality (the links leading to them are from other important people).\n",
    "\n",
    "But this isn't always the case. This image from the Wikipedia page is illustrative:\n",
    "\n",
    "<img src=\"https://upload.wikimedia.org/wikipedia/commons/1/11/6_centrality_measures.png\">\n",
    "\n",
    "A is Betweenness Centrality, B is Closeness Centrality, C is Eigenvector Centrality, and D is Degree centrality. E and F are Harmonic and Katz centrality, respectively, two measures we have not covered. Closeness Centrality (B) is high for nodes that are in the \"middle\" of the network, while Betweenness Centrality is high for nodes that link different dense regions of the network. Degree centrality (D) highlights the \"hubs\" of different communities, while Eigenvector Centrality (C) favors the grouping on the lower right, seeing all other parts of the network as not important.\n",
    "\n",
    "Truly the only way to determine if these measures are correlated is simply to calculate them for the dataset you are working with. "
   ]
  }
 ],
 "metadata": {
  "anaconda-cloud": {},
  "kernelspec": {
   "display_name": "Python 3",
   "language": "python",
   "name": "python3"
  },
  "language_info": {
   "codemirror_mode": {
    "name": "ipython",
    "version": 3
   },
   "file_extension": ".py",
   "mimetype": "text/x-python",
   "name": "python",
   "nbconvert_exporter": "python",
   "pygments_lexer": "ipython3",
   "version": "3.6.0"
  }
 },
 "nbformat": 4,
 "nbformat_minor": 0
}
