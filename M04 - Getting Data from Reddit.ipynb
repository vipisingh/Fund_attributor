{
 "cells": [
  {
   "cell_type": "code",
   "execution_count": 1,
   "metadata": {
    "collapsed": true
   },
   "outputs": [],
   "source": [
    "import praw"
   ]
  },
  {
   "cell_type": "markdown",
   "metadata": {},
   "source": [
    "Register a Reddit user account, then make an application at https://ssl.reddit.com/prefs/apps. Once an app is made, click on \"edit.\" The app's ID is under the name you assigned it, and the app's secret is labeled as \"secret.\""
   ]
  },
  {
   "cell_type": "code",
   "execution_count": 3,
   "metadata": {
    "collapsed": false
   },
   "outputs": [],
   "source": [
    "r = praw.Reddit(client_id=\"\", # your app's ID\n",
    "                client_secret=\"\", # your app's secret\n",
    "                username=\"\", # your reddit username\n",
    "                password=\"\", # your reddit pasword\n",
    "                user_agent=\"IU Social Media Mining by abcde@indiana.edu\")"
   ]
  },
  {
   "cell_type": "markdown",
   "metadata": {},
   "source": [
    "`r` is now the PRAW reddit object. Get a redditor by using the `redditor` method on the PRAW object and passing a username as an argument."
   ]
  },
  {
   "cell_type": "code",
   "execution_count": 4,
   "metadata": {
    "collapsed": true
   },
   "outputs": [],
   "source": [
    "user = r.redditor(\"MattDamon_\")"
   ]
  },
  {
   "cell_type": "markdown",
   "metadata": {},
   "source": [
    "The `user` object has several attributes that you can access. For example, the name of the user:"
   ]
  },
  {
   "cell_type": "code",
   "execution_count": 5,
   "metadata": {
    "collapsed": false
   },
   "outputs": [
    {
     "name": "stdout",
     "output_type": "stream",
     "text": [
      "MattDamon_\n"
     ]
    }
   ],
   "source": [
    "print(user.name) # The user name"
   ]
  },
  {
   "cell_type": "markdown",
   "metadata": {},
   "source": [
    "Let's get this user's submissions. We access the user's `submissions` object, which itself has a `new` method that you can call to get the user's newest submissions. Pass a limit to the `new` method to limit the amount of submissions retrieved."
   ]
  },
  {
   "cell_type": "code",
   "execution_count": 16,
   "metadata": {
    "collapsed": false
   },
   "outputs": [],
   "source": [
    "submissions = user.submissions.new(limit=5)"
   ]
  },
  {
   "cell_type": "markdown",
   "metadata": {},
   "source": [
    "The resulting output is a generator object. For teaching purposes I'm going to go through the generator and put the submissions in a list, but normally you can just get what you need when you're iterating through the generator."
   ]
  },
  {
   "cell_type": "code",
   "execution_count": 17,
   "metadata": {
    "collapsed": false
   },
   "outputs": [],
   "source": [
    "# extract submission items from generator\n",
    "sl = []\n",
    "for s in submissions:\n",
    "    sl.append(s)"
   ]
  },
  {
   "cell_type": "code",
   "execution_count": 22,
   "metadata": {
    "collapsed": false
   },
   "outputs": [],
   "source": [
    "s0 = sl[0]"
   ]
  },
  {
   "cell_type": "markdown",
   "metadata": {},
   "source": [
    "Like a user object, a submission object has a ton of attributes and methods we can example. Here, I use the `vars` method to illustrate all the attributes of the first submission."
   ]
  },
  {
   "cell_type": "code",
   "execution_count": 23,
   "metadata": {
    "collapsed": false
   },
   "outputs": [
    {
     "data": {
      "text/plain": [
       "{'_comments_by_id': {},\n",
       " '_fetched': False,\n",
       " '_flair': None,\n",
       " '_info_params': {},\n",
       " '_mod': None,\n",
       " '_reddit': <praw.reddit.Reddit at 0x1dbc0237198>,\n",
       " 'approved_at_utc': None,\n",
       " 'approved_by': None,\n",
       " 'archived': True,\n",
       " 'author': Redditor(name='MattDamon_'),\n",
       " 'author_flair_css_class': None,\n",
       " 'author_flair_text': None,\n",
       " 'banned_at_utc': None,\n",
       " 'banned_by': None,\n",
       " 'brand_safe': True,\n",
       " 'can_gild': True,\n",
       " 'can_mod_post': False,\n",
       " 'clicked': False,\n",
       " 'comment_limit': 2048,\n",
       " 'comment_sort': 'best',\n",
       " 'contest_mode': False,\n",
       " 'created': 1468990929.0,\n",
       " 'created_utc': 1468962129.0,\n",
       " 'distinguished': None,\n",
       " 'domain': 'self.IAmA',\n",
       " 'downs': 0,\n",
       " 'edited': 1469726671.0,\n",
       " 'gilded': 1,\n",
       " 'hidden': False,\n",
       " 'hide_score': False,\n",
       " 'id': '4tnhf2',\n",
       " 'is_crosspostable': False,\n",
       " 'is_self': True,\n",
       " 'is_video': False,\n",
       " 'likes': None,\n",
       " 'link_flair_css_class': 'actor',\n",
       " 'link_flair_text': 'Actor / Entertainer',\n",
       " 'locked': False,\n",
       " 'media': None,\n",
       " 'media_embed': {},\n",
       " 'mod_reports': [],\n",
       " 'name': 't3_4tnhf2',\n",
       " 'num_comments': 10847,\n",
       " 'num_crossposts': 0,\n",
       " 'num_reports': None,\n",
       " 'over_18': False,\n",
       " 'parent_whitelist_status': 'all_ads',\n",
       " 'permalink': '/r/IAmA/comments/4tnhf2/i_am_matt_damon_ask_me_anything/',\n",
       " 'post_hint': 'self',\n",
       " 'preview': {'enabled': False,\n",
       "  'images': [{'id': 'LLB9jOjkNr8_Af0rXeoP1De_4emfK_M6Ml0naJ_kSmA',\n",
       "    'resolutions': [{'height': 81,\n",
       "      'url': 'https://i.redditmedia.com/0Tlxmz6FymrBO9skF2S4yKPf3O3_dKVyANK5eYW3yvU.jpg?fit=crop&crop=faces%2Centropy&arh=2&w=108&s=4469b2b3cca7a0be3caced75f249c997',\n",
       "      'width': 108},\n",
       "     {'height': 162,\n",
       "      'url': 'https://i.redditmedia.com/0Tlxmz6FymrBO9skF2S4yKPf3O3_dKVyANK5eYW3yvU.jpg?fit=crop&crop=faces%2Centropy&arh=2&w=216&s=47446f7563c6bb34c13ad01ad040d9a2',\n",
       "      'width': 216},\n",
       "     {'height': 240,\n",
       "      'url': 'https://i.redditmedia.com/0Tlxmz6FymrBO9skF2S4yKPf3O3_dKVyANK5eYW3yvU.jpg?fit=crop&crop=faces%2Centropy&arh=2&w=320&s=e049edae5712f171fe90da0303fd5dbc',\n",
       "      'width': 320},\n",
       "     {'height': 480,\n",
       "      'url': 'https://i.redditmedia.com/0Tlxmz6FymrBO9skF2S4yKPf3O3_dKVyANK5eYW3yvU.jpg?fit=crop&crop=faces%2Centropy&arh=2&w=640&s=31ac278c3f622a270abdcd9f9352636d',\n",
       "      'width': 640},\n",
       "     {'height': 720,\n",
       "      'url': 'https://i.redditmedia.com/0Tlxmz6FymrBO9skF2S4yKPf3O3_dKVyANK5eYW3yvU.jpg?fit=crop&crop=faces%2Centropy&arh=2&w=960&s=780d7c77e9c3757a303da40b90a749b0',\n",
       "      'width': 960},\n",
       "     {'height': 810,\n",
       "      'url': 'https://i.redditmedia.com/0Tlxmz6FymrBO9skF2S4yKPf3O3_dKVyANK5eYW3yvU.jpg?fit=crop&crop=faces%2Centropy&arh=2&w=1080&s=b70242dc0a0fdbd855484f0bacdd75fd',\n",
       "      'width': 1080}],\n",
       "    'source': {'height': 3024,\n",
       "     'url': 'https://i.redditmedia.com/0Tlxmz6FymrBO9skF2S4yKPf3O3_dKVyANK5eYW3yvU.jpg?s=853158a4de35c9c97c18a0dd14095051',\n",
       "     'width': 4032},\n",
       "    'variants': {}}]},\n",
       " 'quarantine': False,\n",
       " 'removal_reason': None,\n",
       " 'report_reasons': None,\n",
       " 'saved': False,\n",
       " 'score': 48187,\n",
       " 'secure_media': None,\n",
       " 'secure_media_embed': {},\n",
       " 'selftext': 'Hey Reddit, Matt Damon here. Hanging out for my latest film JASON BOURNE. Go ahead and ask me anything! Watch the trailer [here](https://www.youtube.com/watch?v=F4gJsKZvqE4) and catch it in theaters July 29th.\\n\\nhttp://unvrs.al/JBTix\\n\\n[Proof](https://twitter.com/jasonbourne/status/754058034456895488)\\n\\n[More proof](https://imgur.com/a/8bJ66)\\n\\nEdit: Thanks Reddit! Thanks everybody! I had a great time, it was nice chatting with you. Hope you like Jason Bourne as much as we do!\\n\\n#[Video of my AMA](https://www.youtube.com/watch?v=B1QJ0cRPApg)',\n",
       " 'selftext_html': '<!-- SC_OFF --><div class=\"md\"><p>Hey Reddit, Matt Damon here. Hanging out for my latest film JASON BOURNE. Go ahead and ask me anything! Watch the trailer <a href=\"https://www.youtube.com/watch?v=F4gJsKZvqE4\">here</a> and catch it in theaters July 29th.</p>\\n\\n<p><a href=\"http://unvrs.al/JBTix\">http://unvrs.al/JBTix</a></p>\\n\\n<p><a href=\"https://twitter.com/jasonbourne/status/754058034456895488\">Proof</a></p>\\n\\n<p><a href=\"https://imgur.com/a/8bJ66\">More proof</a></p>\\n\\n<p>Edit: Thanks Reddit! Thanks everybody! I had a great time, it was nice chatting with you. Hope you like Jason Bourne as much as we do!</p>\\n\\n<h1><a href=\"https://www.youtube.com/watch?v=B1QJ0cRPApg\">Video of my AMA</a></h1>\\n</div><!-- SC_ON -->',\n",
       " 'spoiler': False,\n",
       " 'stickied': False,\n",
       " 'subreddit': Subreddit(display_name='IAmA'),\n",
       " 'subreddit_id': 't5_2qzb6',\n",
       " 'subreddit_name_prefixed': 'r/IAmA',\n",
       " 'subreddit_type': 'public',\n",
       " 'suggested_sort': None,\n",
       " 'thumbnail': 'self',\n",
       " 'thumbnail_height': None,\n",
       " 'thumbnail_width': None,\n",
       " 'title': 'I am Matt Damon, Ask Me Anything!',\n",
       " 'ups': 48187,\n",
       " 'url': 'https://www.reddit.com/r/IAmA/comments/4tnhf2/i_am_matt_damon_ask_me_anything/',\n",
       " 'user_reports': [],\n",
       " 'view_count': None,\n",
       " 'visited': False,\n",
       " 'whitelist_status': 'all_ads'}"
      ]
     },
     "execution_count": 23,
     "metadata": {},
     "output_type": "execute_result"
    }
   ],
   "source": [
    "vars(s0)"
   ]
  },
  {
   "cell_type": "markdown",
   "metadata": {},
   "source": [
    "Here, I am going to get Matt Damon's 50 most recent comments. I extract only the text and score from each comment and save them to a list."
   ]
  },
  {
   "cell_type": "code",
   "execution_count": 29,
   "metadata": {
    "collapsed": false
   },
   "outputs": [],
   "source": [
    "user_comments_with_scores = []\n",
    "\n",
    "for c in user.comments.new(limit=50):\n",
    "    user_comments_with_scores.append([c.body, c.score])"
   ]
  },
  {
   "cell_type": "code",
   "execution_count": 31,
   "metadata": {
    "collapsed": false
   },
   "outputs": [
    {
     "data": {
      "text/plain": [
       "[\"I think the answer to that is clear and I'll let you fill in the blanks.\",\n",
       " 2004]"
      ]
     },
     "execution_count": 31,
     "metadata": {},
     "output_type": "execute_result"
    }
   ],
   "source": [
    "user_comments_with_scores[0]"
   ]
  },
  {
   "cell_type": "markdown",
   "metadata": {},
   "source": [
    "Let's get content from a subreddit instead of a redditor. We go back to our original PRAW object, and call its subreddit method, passing to it the name of the subreddit of interest."
   ]
  },
  {
   "cell_type": "code",
   "execution_count": 32,
   "metadata": {
    "collapsed": true
   },
   "outputs": [],
   "source": [
    "subreddit_republican = r.subreddit(\"Republican\")\n",
    "subreddit_democrat = r.subreddit(\"democrats\")"
   ]
  },
  {
   "cell_type": "markdown",
   "metadata": {},
   "source": [
    "Here, I iterate through each subreddit and get the text and score of the 10 most recent comments in the subreddit."
   ]
  },
  {
   "cell_type": "code",
   "execution_count": 38,
   "metadata": {
    "collapsed": false
   },
   "outputs": [],
   "source": [
    "comments_republican = []\n",
    "\n",
    "for c in subreddit_republican.comments(limit=10):\n",
    "    comments_republican.append((c.body, c.score))"
   ]
  },
  {
   "cell_type": "code",
   "execution_count": 39,
   "metadata": {
    "collapsed": false
   },
   "outputs": [
    {
     "data": {
      "text/plain": [
       "[(\"Posts from the 'youtube.com' domain require moderation. Please be patient as we review. Thank you.\\n\\n*I am a bot, and this action was performed automatically. Please [contact the moderators of this subreddit](/message/compose/?to=/r/Republican) if you have any questions or concerns.*\",\n",
       "  1),\n",
       " ('In light of this new information, do you still believe that this is the right person to \"balance the books, develop\"?',\n",
       "  1),\n",
       " (\"You do realize that they are criminals in the same sense that a man who does not play his child support is a criminal right? They've broken civil law...\",\n",
       "  1),\n",
       " (\"These people will stop at nothing to have people who should be voting to vote. It's the only reason Democrats hold any offices. No real American citizen would vote for their Soros bullshit. \",\n",
       "  1),\n",
       " ('[Not quite.](http://cdn.theatlantic.com/assets/media/img/posts/2014/05/Slide3/966724856.jpg) While the article correctly identifies some states that may have welfare advantages it misses the big picture, states with higher costs of living still tend to have a tax deficit overall. It is true that it causes their people on government programs to need more from each though. ',\n",
       "  1)]"
      ]
     },
     "execution_count": 39,
     "metadata": {},
     "output_type": "execute_result"
    }
   ],
   "source": [
    "comments_republican[:5]"
   ]
  },
  {
   "cell_type": "code",
   "execution_count": 40,
   "metadata": {
    "collapsed": true
   },
   "outputs": [],
   "source": [
    "comments_democrat = []\n",
    "\n",
    "for c in subreddit_democrat.comments(limit=10):\n",
    "    comments_democrat.append((c.body, c.score))"
   ]
  },
  {
   "cell_type": "code",
   "execution_count": 41,
   "metadata": {
    "collapsed": false
   },
   "outputs": [
    {
     "data": {
      "text/plain": [
       "[('Happens to the best of us.', 1),\n",
       " (\"You sound more Republican every time I talk to you. I'll talk to you after 18 is over then I can show you better....feel free to have the last word.\",\n",
       "  1),\n",
       " ('The lazy self-entitled voters. ', 1),\n",
       " ('Who do you think was in charge of the party Obama and his hand picked chairman for the DNC Debbie Wassermann Schultz. Who else would you blame? ',\n",
       "  1),\n",
       " ('Haha sorry man we actually agree I thought you replied to me not the other guy. \\n\\nEdit: going to leave the comment up though because it does highlight some key information about Rand for /u/sssyjackson',\n",
       "  1),\n",
       " (\"I mean, yeah, I don't really agree with her rhetoric either. But calling her the worst humans to ever walk the planet is a bit much. That and your suggestion that she'd support Osteen made me wonder if you actually ever read her or just based your opinion on what others say of her.\",\n",
       "  1),\n",
       " (\"Of course I've read Rand.  It's not like she's an obscure writer.  \\n\\nIn case there is any confusion here are some sources for my claims both from her own mouth and from The Atlas Society:\\n\\nhttp://aynrandlexicon.com/lexicon/charity.html\\n\\nhttps://atlassociety.org/commentary/commentary-blog/4271-charity\\n\\nShe clearly views charity as an investment into the community.  \\n\\nThat being said I don't even really agree with Rand but just labeling everything you don't agree with as evil is simply the least productive political rhetoric.  Sure it's dead easy but we know better than that.  \",\n",
       "  1),\n",
       " ('\"That is on Obama\"\\n\\nPathetic. No wonder why we lose and the Dem far left is a mess. \\n\\n',\n",
       "  1),\n",
       " ('> Well we try for those things.\\n\\nNot from what Ms. Clinton said. a MW increase maybe but not $15, and not single payer but fix the ACA. I can understand trying and not getting there but there was no fight in her.\\n\\nNot looking for someone to blame looking for someone to get out front and fight. If Clinton would have done that she would have won.\\n\\nIf she had came on the stage and yelled \"$15 or Fight\" when she came on stage...she would have won.\\n\\n>Claim: Said he has campaigned to raise the minimum wage to $15 an hour. \"Secretary Clinton said, let\\'s raise it to $12.”\\n>Claimed by: Bernie Sanders\\n>Fact check by PolitiFact: Mostly True\\n\\nAnd after that she never brought it up.\\n\\n>in 2010 or 2014.\\n\\nThat is on Obama...ended the 50 state strategy, didn\\'t spend money in the states and recruited 3rd way Republican lite candidates.  \\n\\n>That apathy is what cost us\\n\\nNo shit 2010 got us Gerrmandered  us out of the house.\\n\\n>Where was the revolution then?\\n\\nStill putting their faith in O\\n\\n> Self-motivation is what\\'s needed. \\n\\nThat is why people voted for Trump he promised to change their lives bring back jobs...all lies but Clinton didn\\'t even address the issues. \\n\\nClair McCaskil might just get saved by the very issue that got her elected in the first place MW. It was on the ballot for her first election and increased Dem turnout by 20 points...its back thatks to the Missouri GOP lowering the MW  it is now a ballot initive and if Dems have any sense at all it will be on the ballot anywhere it can be.\\n\\nIn my state the Dem candidate for Governor has put the public option as an election issues...if you give people a reason to vote for you they will...if we don\\'t get control of the house in 18...it will be a long 2 years.\\n\\nIf we can stop the Republicans from this tax cut the way we stopped the gutting of healthcare ..they will all jump ship like rats...that is the fight ahead...if any Dem supports it the should feel the full wrath of the DNC and the DCCC   and Obama and Clinton...want to bet they all just shrug their shoulders and say there is nothing we can do.',\n",
       "  1),\n",
       " (\"I didn't say exactly like Germany but ok. You are basically covered by Medicare, and then you can have more insurance. Just like you can have more now with Dental, Eye, etc.\\n\\nMuch easier to pass. Light years more. \\n\\n\",\n",
       "  1)]"
      ]
     },
     "execution_count": 41,
     "metadata": {},
     "output_type": "execute_result"
    }
   ],
   "source": [
    "comments_democrat"
   ]
  },
  {
   "cell_type": "markdown",
   "metadata": {},
   "source": [
    "Here, I get the top 10 highest rated *submissions* within the last week. "
   ]
  },
  {
   "cell_type": "code",
   "execution_count": 46,
   "metadata": {
    "collapsed": false
   },
   "outputs": [],
   "source": [
    "r_top_submissions = []\n",
    "\n",
    "for s in subreddit_republican.top(time_filter=\"week\", limit=10):\n",
    "    r_top_submissions.append((s.title, s.score))"
   ]
  },
  {
   "cell_type": "code",
   "execution_count": 47,
   "metadata": {
    "collapsed": false
   },
   "outputs": [
    {
     "data": {
      "text/plain": [
       "[('Rand Paul: No, the feds shouldn’t give war machines to the police', 117),\n",
       " (\"Kasich: 'I think political parties are on their way out'\", 105),\n",
       " ('Trump to donate $1 million for Harvey relief efforts', 104),\n",
       " ('Turns Out CNN ‘Republican’ Pundit Gave Thousands to Liberal Democrats', 77),\n",
       " ('President Trump Appoints New NASA Chief: Jim Bridenstine, who once demanded an apology from Obama for squandering money on climate research.',\n",
       "  69)]"
      ]
     },
     "execution_count": 47,
     "metadata": {},
     "output_type": "execute_result"
    }
   ],
   "source": [
    "r_top_submissions[:5]"
   ]
  },
  {
   "cell_type": "code",
   "execution_count": 48,
   "metadata": {
    "collapsed": true
   },
   "outputs": [],
   "source": [
    "d_top_submissions = []\n",
    "\n",
    "for s in subreddit_democrat.top(time_filter=\"week\", limit=10):\n",
    "    d_top_submissions.append((s.title, s.score))"
   ]
  },
  {
   "cell_type": "code",
   "execution_count": 50,
   "metadata": {
    "collapsed": false
   },
   "outputs": [
    {
     "data": {
      "text/plain": [
       "[(\"Most Americans Describe Trump as 'Prejudiced' & 'Selfish,' Poll Says - Overall, 63% of the country says the president is doing a pretty bad job.\",\n",
       "  712),\n",
       " ('Flashback: 20 Texas GOP Representatives and Both Senators Voted Against the Sandy Relief Act',\n",
       "  517),\n",
       " ('Did you know that before 1973 it was illegal in the US to profit off of health care. The Health Maintenance Organization Act of 1973 passed by Nixon changed everything.',\n",
       "  393),\n",
       " ('Robert Mueller Just Took Away President Trump’s Best Leverage - Trump’s pardons to keep his underlings quiet are suddenly worthless.',\n",
       "  289),\n",
       " ('Trump pledged $1 million to Harvey victims — but Hurricane Sandy survivors are still waiting on 2012 pledge',\n",
       "  249)]"
      ]
     },
     "execution_count": 50,
     "metadata": {},
     "output_type": "execute_result"
    }
   ],
   "source": [
    "d_top_submissions[:5]"
   ]
  },
  {
   "cell_type": "markdown",
   "metadata": {},
   "source": [
    "Finally, I go through the democrat and republican subreddits, get the top 10 submissions for the week, and then collect the *comments on the submissions*. "
   ]
  },
  {
   "cell_type": "code",
   "execution_count": 55,
   "metadata": {
    "collapsed": false
   },
   "outputs": [],
   "source": [
    "r_comments = []\n",
    "for s in subreddit_republican.top(time_filter=\"week\", limit=10):\n",
    "    for c in s.comments:\n",
    "        r_comments.append((c.body, c.score))"
   ]
  },
  {
   "cell_type": "code",
   "execution_count": 58,
   "metadata": {
    "collapsed": false
   },
   "outputs": [
    {
     "data": {
      "text/plain": [
       "[(\"/r/Republican is a partisan subreddit.  This is a place for Republicans to discuss issues with other Republicans.\\nOut of respect for this sub's main purpose, we ask that unless you identify as Republican that you refrain from commenting and [leave the vote button alone](https://www.reddit.com/r/MetaRepublican/comments/5t017a/this_sub_is_for_republicans_if_you_do_not/). Non republicans who come to our sub looking for a 'different perspective' [subvert that very perspective with their own views when they vote or comment.](http://i.imgur.com/XqL0wfR.jpg)\\n\\n*I am a bot, and this action was performed automatically. Please [contact the moderators of this subreddit](/message/compose/?to=/r/Republican) if you have any questions or concerns.*\",\n",
       "  1),\n",
       " (\"And he's right. Police aren't soldiers and don't need to be equipped as such. Anecdotally, I have too many police friends that view their jobs as an 'us vs them' mentality, and this equipment does not help that.  \",\n",
       "  68),\n",
       " (\"Give a police force a tank and they're going to start looking for a reason to use the tank.  It's human nature.  There's no need to encourage them to get all Ramboed up.\",\n",
       "  41),\n",
       " ('Paul is right! This makes sense from a conservative perspective. Our skepticism of government and desire to limit its power should not be forgotten when we think of the institution of law enforcement.',\n",
       "  17),\n",
       " ('I fail to see how a transport vehicle with no weapons attached to falls into the \"offensive\" category. Those armored vehicles are just that, armored vehicles, they are not tanks. Officer Jim is not steamrolling cars on his way to give traffic citations. They are used for situations that warrant it, SWAT calls, dangerous traffic/weather conditions like were seeing in Texas, active shooters and the like. I fail to see a difference between spending a ton of money to outfit a suburban with armor plating when you can have an MRAP for cents on the dollar that does the same function only better, it keeps officers safe.\\n\\nPolice should be better equipped than the bad guys, being under-equipped is what caused the North Hollywood shootout.\\n\\n[The Orlando officer who took a direct head shot and lived did so due to \"militarization\"](https://media.local10.com/photo/2016/06/13/Orlando%20Officer%20Helmet_1465852817129_7121784_ver1.0_1280_720.jpg)\\n\\n[What about the slain officers in Dallas who were told to leave their heavy vests behind, because of fears of \"militarization\"](http://dfw.cbslocal.com/2017/06/29/police-told-to-leave-protective-gear-behind/)\\n\\nIf a 40mm launcher does a better job at delivering bean bag rounds than a traditional shotgun, why not use it?\\n\\nDrones give all the advantages of a police chopper with a minimal cost.\\n\\nIf the tech keeps officers safe and costs the same or less, we should not take that away from them because its scary looking.\\n\\nBad guys always look for an advantage and so should our police, neutering their ability to do that because of political optics is a bad idea.\\n\\n\\nPaul admitedly talks about keeping defensive tech like armor but the idea that giving police old/not used military tech somehow turns them into an occupying force is a big stretch. \\nAll that being said...\\n\\nBayonets are absurd.',\n",
       "  8)]"
      ]
     },
     "execution_count": 58,
     "metadata": {},
     "output_type": "execute_result"
    }
   ],
   "source": [
    "r_comments[:5]"
   ]
  },
  {
   "cell_type": "code",
   "execution_count": 59,
   "metadata": {
    "collapsed": true
   },
   "outputs": [],
   "source": [
    "d_comments = []\n",
    "for s in subreddit_democrat.top(time_filter=\"week\", limit=10):\n",
    "    for c in s.comments:\n",
    "        d_comments.append((c.body, c.score))"
   ]
  },
  {
   "cell_type": "code",
   "execution_count": 60,
   "metadata": {
    "collapsed": false
   },
   "outputs": [
    {
     "data": {
      "text/plain": [
       "[('Only 63%?!', 41),\n",
       " ('So if he shot a senior citizen and a puppy on national television do you think we could get that number to 70%?',\n",
       "  11),\n",
       " ('Sure, prejudiced and selfish -- but \"idiotic\" doesn\\'t come up in this? I\\'d call the man a drooling half-wit, except that I don\\'t want to insult drooling half-wits.',\n",
       "  5),\n",
       " ('Republican here, looking for answers. What exactly has he done to show he is doing a bad job? ',\n",
       "  9),\n",
       " ('Worst president ever.  An utter disaster and embarrassment ', 2)]"
      ]
     },
     "execution_count": 60,
     "metadata": {},
     "output_type": "execute_result"
    }
   ],
   "source": [
    "d_comments[:5]"
   ]
  }
 ],
 "metadata": {
  "kernelspec": {
   "display_name": "Python [Root]",
   "language": "python",
   "name": "Python [Root]"
  },
  "language_info": {
   "codemirror_mode": {
    "name": "ipython",
    "version": 3
   },
   "file_extension": ".py",
   "mimetype": "text/x-python",
   "name": "python",
   "nbconvert_exporter": "python",
   "pygments_lexer": "ipython3",
   "version": "3.5.2"
  }
 },
 "nbformat": 4,
 "nbformat_minor": 0
}
