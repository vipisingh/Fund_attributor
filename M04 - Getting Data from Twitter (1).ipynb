{
 "cells": [
  {
   "cell_type": "markdown",
   "metadata": {},
   "source": [
    "First, I'm going to save my API Key and API secret in some variables here. Keep these secret! If you're working with a partner and are using Twitter data, I highly recommending creating a new Twitter account *for the project* and making an application using that account."
   ]
  },
  {
   "cell_type": "code",
   "execution_count": 1,
   "metadata": {
    "collapsed": true
   },
   "outputs": [],
   "source": [
    "API_KEY = \"LH5bde6LZ1jZK7czQQuEWr639\"\n",
    "API_SECRET = \"5F6cVrGVkSqtkibPYFwezZ0xOahw1ZIw2U2sxMTgoTwZW8oRqI\""
   ]
  },
  {
   "cell_type": "markdown",
   "metadata": {},
   "source": [
    "Let's go ahead and import tweepy and get our API object set up. First, we need to make an auth object using tweepy's method ``AppAuthHandler``. It takes the ``API_KEY`` and the ``API_SECRET`` as its arguments. \n",
    "\n",
    "Then, we call the tweepy ``API`` method. Like with scikit-learn, consider this method to be a **factory** method that makes the api object we'll actually use. It takes the ``auth`` object we created as its argument; it uses these credentials to access Twitter.\n",
    "\n",
    "I'm passing two additional arguments to the ``API`` method. I'm setting ``wait_on_rate_limit=True``, which means that if during the process of getting your data, you hit your rate limit, Tweepy will handle everything necessary to wait the correct amount of time *and* resume whatever it was doing right where it left off. I'm also setting ``wait_on_rate_limit_notify=True`` so you'll be notified when Tweepy is waiting, which is better than staring at at the \"still processing\" asterisk without knowing what's going on.\n",
    "\n",
    "I'm going to save the API object in the variable ``api`` for easy reference. "
   ]
  },
  {
   "cell_type": "code",
   "execution_count": 2,
   "metadata": {
    "collapsed": true
   },
   "outputs": [],
   "source": [
    "import tweepy\n",
    "\n",
    "auth = tweepy.AppAuthHandler(API_KEY, API_SECRET)\n",
    "api = tweepy.API(auth, wait_on_rate_limit=True, wait_on_rate_limit_notify=True)"
   ]
  },
  {
   "cell_type": "markdown",
   "metadata": {},
   "source": [
    "# The Tweepy User Object\n",
    "\n",
    "Let's load an arbitrary user into our environment and see what information we can obtain about him. Our lucky experimental subject will be IU Bloomington, whose handle is IUBloomginton.. Feel free to replace me with your own account or that of your favorite Tweeter if you'd like.\n",
    "\n",
    "Getting a user involves calling the method of our ``api``called ``get_user``. It takes one argument: the user id of the user you want to grab."
   ]
  },
  {
   "cell_type": "code",
   "execution_count": 3,
   "metadata": {
    "collapsed": false
   },
   "outputs": [],
   "source": [
    "user = api.get_user(\"IUBloomington\")"
   ]
  },
  {
   "cell_type": "markdown",
   "metadata": {},
   "source": [
    "Okay, so we have a user saved in the variable ``user``. What information do we have access to? A lot, actually. As always, we can access them through dot notation. \n",
    "\n",
    "As you know, with dot notation, we can access the *attributes* (e.g. variables) and *methods* (e.g functions) that belong to an object. We've been using this notation a lot with scikit-learn. Sometimes, you don't have any idea what attributes or methods an object has. There are two ways to resolve this problem. One is to look up the API documentation for, in this scenario, Tweepy. The other is to use the handy ``dir`` function that is built into Python."
   ]
  },
  {
   "cell_type": "code",
   "execution_count": 4,
   "metadata": {
    "collapsed": false
   },
   "outputs": [
    {
     "data": {
      "text/plain": [
       "['__class__',\n",
       " '__delattr__',\n",
       " '__dict__',\n",
       " '__dir__',\n",
       " '__doc__',\n",
       " '__eq__',\n",
       " '__format__',\n",
       " '__ge__',\n",
       " '__getattribute__',\n",
       " '__getstate__',\n",
       " '__gt__',\n",
       " '__hash__',\n",
       " '__init__',\n",
       " '__le__',\n",
       " '__lt__',\n",
       " '__module__',\n",
       " '__ne__',\n",
       " '__new__',\n",
       " '__reduce__',\n",
       " '__reduce_ex__',\n",
       " '__repr__',\n",
       " '__setattr__',\n",
       " '__sizeof__',\n",
       " '__str__',\n",
       " '__subclasshook__',\n",
       " '__weakref__',\n",
       " '_api',\n",
       " '_json',\n",
       " 'contributors_enabled',\n",
       " 'created_at',\n",
       " 'default_profile',\n",
       " 'default_profile_image',\n",
       " 'description',\n",
       " 'entities',\n",
       " 'favourites_count',\n",
       " 'follow',\n",
       " 'follow_request_sent',\n",
       " 'followers',\n",
       " 'followers_count',\n",
       " 'followers_ids',\n",
       " 'following',\n",
       " 'friends',\n",
       " 'friends_count',\n",
       " 'geo_enabled',\n",
       " 'has_extended_profile',\n",
       " 'id',\n",
       " 'id_str',\n",
       " 'is_translation_enabled',\n",
       " 'is_translator',\n",
       " 'lang',\n",
       " 'listed_count',\n",
       " 'lists',\n",
       " 'lists_memberships',\n",
       " 'lists_subscriptions',\n",
       " 'location',\n",
       " 'name',\n",
       " 'notifications',\n",
       " 'parse',\n",
       " 'parse_list',\n",
       " 'profile_background_color',\n",
       " 'profile_background_image_url',\n",
       " 'profile_background_image_url_https',\n",
       " 'profile_background_tile',\n",
       " 'profile_banner_url',\n",
       " 'profile_image_url',\n",
       " 'profile_image_url_https',\n",
       " 'profile_link_color',\n",
       " 'profile_location',\n",
       " 'profile_sidebar_border_color',\n",
       " 'profile_sidebar_fill_color',\n",
       " 'profile_text_color',\n",
       " 'profile_use_background_image',\n",
       " 'protected',\n",
       " 'screen_name',\n",
       " 'status',\n",
       " 'statuses_count',\n",
       " 'time_zone',\n",
       " 'timeline',\n",
       " 'translator_type',\n",
       " 'unfollow',\n",
       " 'url',\n",
       " 'utc_offset',\n",
       " 'verified']"
      ]
     },
     "execution_count": 4,
     "metadata": {},
     "output_type": "execute_result"
    }
   ],
   "source": [
    "dir(user)"
   ]
  },
  {
   "cell_type": "markdown",
   "metadata": {},
   "source": [
    "As you can see, there's a huge amount of information you can pull once you've created a user object."
   ]
  },
  {
   "cell_type": "code",
   "execution_count": 5,
   "metadata": {
    "collapsed": false
   },
   "outputs": [
    {
     "name": "stdout",
     "output_type": "stream",
     "text": [
      "The name of the user:\n",
      "Indiana University\n",
      "The user's location:\n",
      "Bloomington, IN\n",
      "The user's time zone:\n",
      "Eastern Time (US & Canada)\n",
      "The amount of accounts this user follows:\n",
      "607\n",
      "The amount of accounts who follow this user:\n",
      "185030\n"
     ]
    }
   ],
   "source": [
    "print(\"The name of the user:\")\n",
    "print(user.name)\n",
    "print(\"The user's location:\")\n",
    "print(user.location)\n",
    "print(\"The user's time zone:\")\n",
    "print(user.time_zone)\n",
    "print(\"The amount of accounts this user follows:\")\n",
    "print(user.friends_count)\n",
    "print(\"The amount of accounts who follow this user:\")\n",
    "print(user.followers_count)"
   ]
  },
  {
   "cell_type": "markdown",
   "metadata": {},
   "source": [
    "And so on. Note the methods ``followers`` and ``friends``. These are **methods** so require parenthesis after them.  They return iterables, that themselves contain the ``user`` objects of the people who follow and are followed by the chosen user, respectively. Here, I'm iterating through the first 10 followers of IUBloomginton and printing their name and account description. "
   ]
  },
  {
   "cell_type": "code",
   "execution_count": 6,
   "metadata": {
    "collapsed": false
   },
   "outputs": [
    {
     "name": "stdout",
     "output_type": "stream",
     "text": [
      "WordOnTheStreetIN\n",
      "\n",
      "**************************************************\n",
      "Norma Edwards\n",
      "\n",
      "**************************************************\n",
      "りょうた\n",
      "LACOSTE YONEX FILA 江坂テニスセンター NOAH  NSCA Peugeot8 19 千里丘\n",
      "**************************************************\n",
      "Ewuana\n",
      "Exposing you hoes\n",
      "**************************************************\n",
      "Karen Lindsey\n",
      "\n",
      "**************************************************\n",
      "Fee Bohonschaaker\n",
      "\n",
      "**************************************************\n",
      "Satish Gupta\n",
      "Optometrist\n",
      "**************************************************\n",
      "Sheri l. Ball\n",
      "\n",
      "**************************************************\n",
      "liz\n",
      "\n",
      "**************************************************\n",
      "Chawit\n",
      "Chawit is trying hard to get an 'A' for the course 'How to live happily'...\n",
      "**************************************************\n"
     ]
    }
   ],
   "source": [
    "followers = user.followers()\n",
    "for f in followers[:10]:\n",
    "    print(f.name)\n",
    "    print(f.description)\n",
    "    print(\"*\"*50)"
   ]
  },
  {
   "cell_type": "markdown",
   "metadata": {},
   "source": [
    "We haven't started our study of networks yet, but you could easily make a follower-following network using only the commands you know so far. Start, for example, with your own user account. Then, get all your followers. Then get all *their* followers. And so on. \n",
    "\n",
    "# The Tweepy Status Object\n",
    "\n",
    "First, note that in Twitter's API and in Tweepy the tweets are actually referred to as **statuses**. Don't get thrown off by this terminology!\n",
    "\n",
    "We can obtain a specific tweet using the ``api`` object's ``get_status`` object. It takes one argument: a statuses' numeric ID.\n",
    "\n",
    "Note that I'm doing this for instructional purposes, so we can first explore what a Status object is like. More often than not, you won't be getting tweets by directly referencing their numeric ID. You'll probably going through a list of users or hashtags and *then* getting the tweets associated with them. We'll cover that shortly.\n",
    "\n",
    "I'm grabbing a tweet from IUBloomington, which is actually a retweet from IU Basketball's account. I got this ID manually by looking at the tweet's URL."
   ]
  },
  {
   "cell_type": "code",
   "execution_count": 7,
   "metadata": {
    "collapsed": false
   },
   "outputs": [],
   "source": [
    "status = api.get_status(773643148878807040)"
   ]
  },
  {
   "cell_type": "markdown",
   "metadata": {},
   "source": [
    "Let's use the handy ``dir`` method to see what information we have available to us. "
   ]
  },
  {
   "cell_type": "code",
   "execution_count": 8,
   "metadata": {
    "collapsed": false
   },
   "outputs": [
    {
     "data": {
      "text/plain": [
       "['__class__',\n",
       " '__delattr__',\n",
       " '__dict__',\n",
       " '__dir__',\n",
       " '__doc__',\n",
       " '__eq__',\n",
       " '__format__',\n",
       " '__ge__',\n",
       " '__getattribute__',\n",
       " '__getstate__',\n",
       " '__gt__',\n",
       " '__hash__',\n",
       " '__init__',\n",
       " '__le__',\n",
       " '__lt__',\n",
       " '__module__',\n",
       " '__ne__',\n",
       " '__new__',\n",
       " '__reduce__',\n",
       " '__reduce_ex__',\n",
       " '__repr__',\n",
       " '__setattr__',\n",
       " '__sizeof__',\n",
       " '__str__',\n",
       " '__subclasshook__',\n",
       " '__weakref__',\n",
       " '_api',\n",
       " '_json',\n",
       " 'author',\n",
       " 'contributors',\n",
       " 'coordinates',\n",
       " 'created_at',\n",
       " 'destroy',\n",
       " 'entities',\n",
       " 'extended_entities',\n",
       " 'favorite',\n",
       " 'favorite_count',\n",
       " 'favorited',\n",
       " 'geo',\n",
       " 'id',\n",
       " 'id_str',\n",
       " 'in_reply_to_screen_name',\n",
       " 'in_reply_to_status_id',\n",
       " 'in_reply_to_status_id_str',\n",
       " 'in_reply_to_user_id',\n",
       " 'in_reply_to_user_id_str',\n",
       " 'is_quote_status',\n",
       " 'lang',\n",
       " 'parse',\n",
       " 'parse_list',\n",
       " 'place',\n",
       " 'possibly_sensitive',\n",
       " 'possibly_sensitive_appealable',\n",
       " 'retweet',\n",
       " 'retweet_count',\n",
       " 'retweeted',\n",
       " 'retweets',\n",
       " 'source',\n",
       " 'source_url',\n",
       " 'text',\n",
       " 'truncated',\n",
       " 'user']"
      ]
     },
     "execution_count": 8,
     "metadata": {},
     "output_type": "execute_result"
    }
   ],
   "source": [
    "dir(status)"
   ]
  },
  {
   "cell_type": "markdown",
   "metadata": {},
   "source": [
    "Again, we have a huge amount of information available to us. Most basic, of course, is the status text: "
   ]
  },
  {
   "cell_type": "code",
   "execution_count": 9,
   "metadata": {
    "collapsed": false
   },
   "outputs": [
    {
     "name": "stdout",
     "output_type": "stream",
     "text": [
      "Squad 💯 #iubb https://t.co/D5DypL976H\n"
     ]
    }
   ],
   "source": [
    "print(status.text)"
   ]
  },
  {
   "cell_type": "markdown",
   "metadata": {},
   "source": [
    "Recall the Trump Twitter analysis from our first lecture. Statuses have a ``source`` attribute that indicates the device that made the tweet. It looks like IU Basketball simply used the online Twitter web client, but this would also indicate, for example, if the tweet came from an IPhone or Android."
   ]
  },
  {
   "cell_type": "code",
   "execution_count": 10,
   "metadata": {
    "collapsed": false
   },
   "outputs": [
    {
     "name": "stdout",
     "output_type": "stream",
     "text": [
      "Twitter Web Client\n"
     ]
    }
   ],
   "source": [
    "print(status.source)"
   ]
  },
  {
   "cell_type": "markdown",
   "metadata": {},
   "source": [
    "There are many other attributes you can see here that may serve as useful features for a machine learning algorithm. ``retweet_count`` and ``favorite_count``, for example, can be considered proxies for how popular a status is."
   ]
  },
  {
   "cell_type": "code",
   "execution_count": 11,
   "metadata": {
    "collapsed": false
   },
   "outputs": [
    {
     "name": "stdout",
     "output_type": "stream",
     "text": [
      "Number of retweets:\n",
      "653\n",
      "Number of times favorited:\n",
      "1301\n"
     ]
    }
   ],
   "source": [
    "print(\"Number of retweets:\")\n",
    "print(status.retweet_count)\n",
    "print(\"Number of times favorited:\")\n",
    "print(status.favorite_count)"
   ]
  },
  {
   "cell_type": "markdown",
   "metadata": {},
   "source": [
    "Clearly, this status is generating a lot of excitement. \n",
    "\n",
    "As with the Tweepy ``user`` object, there are methods that allow us to jump to *other* ``user`` and ``status`` objects. This is where the API really gets powerful, and where you can be computationally mobile by jumping from place to place. \n",
    "\n",
    "The simplest attribute is the ``author`` attribute. Note carefully that this is the ``user`` object of the account that created the Tweet. So, printing just ``status.author`` would give us a bunch of hard-to-read mumbo-jumbo."
   ]
  },
  {
   "cell_type": "code",
   "execution_count": 12,
   "metadata": {
    "collapsed": false
   },
   "outputs": [
    {
     "name": "stdout",
     "output_type": "stream",
     "text": [
      "User(has_extended_profile=False, protected=False, is_translation_enabled=False, url='https://t.co/TIFZEsHleX', favourites_count=6020, follow_request_sent=None, followers_count=673076, profile_background_image_url_https='https://pbs.twimg.com/profile_background_images/646712891/m9bpi9c2fpy3a9wn59d5.jpeg', default_profile_image=False, profile_background_tile=False, profile_background_color='C0DEED', profile_link_color='0084B4', profile_background_image_url='http://pbs.twimg.com/profile_background_images/646712891/m9bpi9c2fpy3a9wn59d5.jpeg', profile_image_url_https='https://pbs.twimg.com/profile_images/613041886731837440/oNDAx9QD_normal.jpg', entities={'url': {'urls': [{'expanded_url': 'http://bit.ly/IndianaMBB', 'url': 'https://t.co/TIFZEsHleX', 'indices': [0, 23], 'display_url': 'bit.ly/IndianaMBB'}]}, 'description': {'urls': []}}, verified=True, default_profile=False, is_translator=False, following=False, profile_banner_url='https://pbs.twimg.com/profile_banners/791598918/1433176985', id_str='791598918', translator_type='none', lang='en', statuses_count=12231, listed_count=745, notifications=None, friends_count=177, name='Indiana Basketball', profile_use_background_image=True, profile_image_url='http://pbs.twimg.com/profile_images/613041886731837440/oNDAx9QD_normal.jpg', profile_sidebar_border_color='C0DEED', description=\"The official account of Indiana Men's Basketball.\", _json={'has_extended_profile': False, 'protected': False, 'statuses_count': 12231, 'url': 'https://t.co/TIFZEsHleX', 'favourites_count': 6020, 'listed_count': 745, 'follow_request_sent': None, 'followers_count': 673076, 'profile_background_image_url_https': 'https://pbs.twimg.com/profile_background_images/646712891/m9bpi9c2fpy3a9wn59d5.jpeg', 'default_profile_image': False, 'notifications': None, 'friends_count': 177, 'name': 'Indiana Basketball', 'profile_background_tile': False, 'profile_background_color': 'C0DEED', 'profile_link_color': '0084B4', 'profile_use_background_image': True, 'profile_image_url': 'http://pbs.twimg.com/profile_images/613041886731837440/oNDAx9QD_normal.jpg', 'profile_background_image_url': 'http://pbs.twimg.com/profile_background_images/646712891/m9bpi9c2fpy3a9wn59d5.jpeg', 'profile_image_url_https': 'https://pbs.twimg.com/profile_images/613041886731837440/oNDAx9QD_normal.jpg', 'entities': {'url': {'urls': [{'expanded_url': 'http://bit.ly/IndianaMBB', 'url': 'https://t.co/TIFZEsHleX', 'indices': [0, 23], 'display_url': 'bit.ly/IndianaMBB'}]}, 'description': {'urls': []}}, 'contributors_enabled': False, 'id': 791598918, 'default_profile': False, 'verified': True, 'created_at': 'Thu Aug 30 13:29:31 +0000 2012', 'translator_type': 'none', 'location': 'Bloomington, Ind.', 'is_translation_enabled': False, 'following': None, 'profile_sidebar_fill_color': 'DDEEF6', 'utc_offset': -18000, 'screen_name': 'IndianaMBB', 'is_translator': False, 'profile_sidebar_border_color': 'C0DEED', 'profile_banner_url': 'https://pbs.twimg.com/profile_banners/791598918/1433176985', 'id_str': '791598918', 'lang': 'en', 'description': \"The official account of Indiana Men's Basketball.\", 'profile_text_color': '333333', 'geo_enabled': False, 'time_zone': 'Eastern Time (US & Canada)'}, id=791598918, contributors_enabled=False, created_at=datetime.datetime(2012, 8, 30, 13, 29, 31), location='Bloomington, Ind.', utc_offset=-18000, screen_name='IndianaMBB', time_zone='Eastern Time (US & Canada)', _api=<tweepy.api.API object at 0x0000029596D17470>, profile_text_color='333333', geo_enabled=False, profile_sidebar_fill_color='DDEEF6')\n"
     ]
    }
   ],
   "source": [
    "print(status.author)"
   ]
  },
  {
   "cell_type": "markdown",
   "metadata": {},
   "source": [
    "Instead, you have to treat ``status.author`` as a ``user`` object."
   ]
  },
  {
   "cell_type": "code",
   "execution_count": 13,
   "metadata": {
    "collapsed": false
   },
   "outputs": [
    {
     "name": "stdout",
     "output_type": "stream",
     "text": [
      "The official account of Indiana Men's Basketball.\n"
     ]
    }
   ],
   "source": [
    "author_object = status.author\n",
    "print(author_object.description)"
   ]
  },
  {
   "cell_type": "markdown",
   "metadata": {},
   "source": [
    "You can skip the assignment step, and just use dot notation twice."
   ]
  },
  {
   "cell_type": "code",
   "execution_count": 14,
   "metadata": {
    "collapsed": false
   },
   "outputs": [
    {
     "name": "stdout",
     "output_type": "stream",
     "text": [
      "The official account of Indiana Men's Basketball.\n"
     ]
    }
   ],
   "source": [
    "print(status.author.description)"
   ]
  },
  {
   "cell_type": "markdown",
   "metadata": {},
   "source": [
    "So, reading this as normal English. Starting with the **status**, obtain (with dot notation) its **author**, then, from **that user object**, obtain (with dot notation) its description."
   ]
  },
  {
   "cell_type": "markdown",
   "metadata": {},
   "source": [
    "Then there is the ``retweets`` method, which returns an iterable of all the **retweets of this status**."
   ]
  },
  {
   "cell_type": "code",
   "execution_count": 15,
   "metadata": {
    "collapsed": false
   },
   "outputs": [
    {
     "name": "stdout",
     "output_type": "stream",
     "text": [
      "RT @IndianaMBB: Squad 💯 #iubb https://t.co/D5DypL976H\n",
      "RT @IndianaMBB: Squad 💯 #iubb https://t.co/D5DypL976H\n",
      "RT @IndianaMBB: Squad 💯 #iubb https://t.co/D5DypL976H\n",
      "RT @IndianaMBB: Squad 💯 #iubb https://t.co/D5DypL976H\n",
      "RT @IndianaMBB: Squad 💯 #iubb https://t.co/D5DypL976H\n"
     ]
    }
   ],
   "source": [
    "retweets = status.retweets()\n",
    "for retweet in retweets[:5]:\n",
    "    print(retweet.text)"
   ]
  },
  {
   "cell_type": "markdown",
   "metadata": {},
   "source": [
    "That's neither helpful nor surprising. Retweets are often just verbatim the text of the original tweet (plus an RT at the start). What *could* be helpful, depending on your analysis, is *who* is retweeting."
   ]
  },
  {
   "cell_type": "code",
   "execution_count": 16,
   "metadata": {
    "collapsed": false
   },
   "outputs": [
    {
     "name": "stdout",
     "output_type": "stream",
     "text": [
      "Who:\n",
      "RonShabazz_02\n",
      "When:\n",
      "2016-10-27 15:08:08\n",
      "**************************************************\n",
      "Who:\n",
      "_rocketsss\n",
      "When:\n",
      "2016-10-26 21:31:26\n",
      "**************************************************\n",
      "Who:\n",
      "Casey_Smith9\n",
      "When:\n",
      "2016-10-07 20:26:30\n",
      "**************************************************\n",
      "Who:\n",
      "CarlousThrell\n",
      "When:\n",
      "2016-10-03 05:14:37\n",
      "**************************************************\n",
      "Who:\n",
      "03Brayanm\n",
      "When:\n",
      "2016-10-03 05:13:33\n",
      "**************************************************\n"
     ]
    }
   ],
   "source": [
    "for retweet in retweets[:5]:\n",
    "    print(\"Who:\")\n",
    "    print(retweet.author.screen_name)\n",
    "    print(\"When:\")\n",
    "    print(retweet.created_at)\n",
    "    print(\"*\"*50)"
   ]
  },
  {
   "cell_type": "markdown",
   "metadata": {},
   "source": [
    "And if we wanted to, we could keep this going. We could get the tweets of one of these users, and see who retweeted those tweets, and so and and so forth. \n",
    "\n",
    "Hopefully at this point you can see that you can easily jump from a ``user`` object to a ``status`` object, and visa-versa. This is one very versatile way to *collect data* for your algorithms. How you do so, of course, will depend heavily on what your goal is, but the tools are available. "
   ]
  },
  {
   "cell_type": "markdown",
   "metadata": {},
   "source": [
    "# Searching\n",
    "\n",
    "Many of you will want to seed your data collection with a search term rather than a particular user or Tweet. We can easily do this using a method belonging to a Tweepy ``api`` called ``search``. \n",
    "\n",
    "The ``search`` method takes an argument called ``q`` (standing for \"query\") that simply contains the string you want to search for. Hashtags work here as well. "
   ]
  },
  {
   "cell_type": "code",
   "execution_count": 17,
   "metadata": {
    "collapsed": false
   },
   "outputs": [
    {
     "name": "stdout",
     "output_type": "stream",
     "text": [
      "RT @ChronicHoosier: Updated 2016-17 #iubb poster. https://t.co/Rg7YpVxMgc\n",
      "2017-01-29 15:16:20\n",
      "**************************************************\n",
      "RT @HomegrownHoos: IT'S GAMEDAY HOOSIER NATION!!! #IUBB\n",
      "2017-01-29 15:14:30\n",
      "**************************************************\n",
      "Hoosiers - Not about winning our making the tournament - instead getting healthy, supporting the team, our school, and our coach #iubb\n",
      "2017-01-29 15:14:27\n",
      "**************************************************\n",
      "RT @ZachOsterman: Blackmon, Hartman, Anunoby -- the depth that made #iubb so dangerous is now its greatest enemy. INSIDER: https://t.co/U64…\n",
      "2017-01-29 15:11:35\n",
      "**************************************************\n",
      "RT @CrossroadsIU: Hoosier Nation!! The #iubb team needs you more than ever these next few months! We r young and injured, but we arent defe…\n",
      "2017-01-29 15:07:48\n",
      "**************************************************\n"
     ]
    }
   ],
   "source": [
    "search_results = api.search(q=\"#IUBB\")\n",
    "\n",
    "for status in search_results[:5]:\n",
    "    print(status.text)\n",
    "    print(status.created_at)\n",
    "    print(\"*\"*50)"
   ]
  },
  {
   "cell_type": "markdown",
   "metadata": {},
   "source": [
    "There are other useful parameters to the search method. The ``locale`` method takes a two-letter code representing the language you want returned. Let's say I'm interested in the hashtag #rio, but I want English results, not Portuguese or other languages."
   ]
  },
  {
   "cell_type": "code",
   "execution_count": 18,
   "metadata": {
    "collapsed": false
   },
   "outputs": [
    {
     "name": "stdout",
     "output_type": "stream",
     "text": [
      "Bikinis sure are small in #Rio. Different view of #Copacabana #beach https://t.co/Fhy7Vrx40l #Brazil #TravelBoldly\n",
      "**************************************************\n",
      "4 U.S swimmers in #Olympic accused of false testimonies #Rio #vc #funding #startup #vc https://t.co/oqfTs9j6O6 https://t.co/e577qyd4c9\n",
      "**************************************************\n",
      "Omg this dog in the fruit hat is the essence of my life. And my favorite dog #Rio\n",
      "**************************************************\n",
      "Morning with my buns and #Rio 😍🤗\n",
      "**************************************************\n",
      "#rio anal saddle sex machine https://t.co/7pa2Gvu5qU\n",
      "**************************************************\n"
     ]
    }
   ],
   "source": [
    "search_results = api.search(q=\"#rio\", lang=\"en\")\n",
    "\n",
    "for status in search_results[:5]:\n",
    "    print(status.text)\n",
    "    print(\"*\"*50)"
   ]
  },
  {
   "cell_type": "markdown",
   "metadata": {},
   "source": [
    "(when I ran the code for this notebook, a Turkish-language status slipped in - the locale parameter isn't always perfect, so there's always preprocessing before analysis!)\n",
    "\n",
    "There's also a ``geocode`` parameter, a string that takes the following format``\"latitude,longitude,radius[km|mi]\"``. Let's see what people within 20km of Paris are saying about #rio."
   ]
  },
  {
   "cell_type": "code",
   "execution_count": 19,
   "metadata": {
    "collapsed": false
   },
   "outputs": [
    {
     "name": "stdout",
     "output_type": "stream",
     "text": [
      "#RiodeJaneiro offre d’excellentes possibilités de se défouler et de s’aérer dans un cadre spectaculaire https://t.co/rsKL88YaJl #voyage #Rio\n",
      "**************************************************\n",
      "stigmate15 : #rio #sena #paris🇫🇷 @ Tour Eiffel https://t.co/8JuZckm16l (via Twitter https://t.co/qxwQYQ4Oh8)\n",
      "**************************************************\n",
      "#rio #sena #paris🇫🇷 @ Tour Eiffel https://t.co/bd2s55xG8M\n",
      "**************************************************\n",
      "Gramatica Ativa - Versao Brasileira já saiu! https://t.co/wo4zam1xJz Graças a @NowGuyon @Paris_Sorbonne @Melbury78 #rio #fillon2017\n",
      "**************************************************\n",
      "Préservatifs, animaux morts... on trouve de tout sur cette plage de #Rio.. &amp; notre @Observateurs en a assez! A voir… https://t.co/8xPliqic1A\n",
      "**************************************************\n"
     ]
    }
   ],
   "source": [
    "search_results = api.search(q=\"#rio\", geocode=\"48.86,2.35,20km\")\n",
    "\n",
    "for status in search_results[:5]:\n",
    "    print(status.text)\n",
    "    print(\"*\"*50)"
   ]
  },
  {
   "cell_type": "markdown",
   "metadata": {},
   "source": [
    "# Trends\n",
    "\n",
    "Let's say you don't have a starting search term, user, or Tweet. What if you're just interested in what's popular among users *right now?* Perhaps these will inspire you to find themes to narrow down your search. A Tweepy ``api`` object has a method called ``trends_place`` that can tell you what terms are currently trending. The method takes one argument, an *id representing the place that you want to see trends from*. These IDs are from Yahoo's Where On Earth ID (WOEID) system. [Here is a website where you can look up the corresponding WOEID for a given place](http://woeid.rosselliot.co.nz/). For starters, the United States is 23424977 and the World is 1.\n",
    "\n",
    "The object returned by ``trends_place`` is a tricky JSON object. It's a little harder to parse than the ``user`` and ``status`` objects. I'll guide you through this step by step. First, let's see what's trending in the US. "
   ]
  },
  {
   "cell_type": "code",
   "execution_count": 20,
   "metadata": {
    "collapsed": true
   },
   "outputs": [],
   "source": [
    "trending_us = api.trends_place(23424977)"
   ]
  },
  {
   "cell_type": "markdown",
   "metadata": {},
   "source": [
    "If you print out the trending_us variable, you will see a *lot* of stuff. "
   ]
  },
  {
   "cell_type": "code",
   "execution_count": 21,
   "metadata": {
    "collapsed": false
   },
   "outputs": [
    {
     "name": "stdout",
     "output_type": "stream",
     "text": [
      "[{'as_of': '2017-01-29T15:18:19Z', 'created_at': '2017-01-29T15:11:34Z', 'trends': [{'query': '%23StopPresidentBannon', 'promoted_content': None, 'name': '#StopPresidentBannon', 'url': 'http://twitter.com/search?q=%23StopPresidentBannon', 'tweet_volume': 89147}, {'query': '%23SundayMorning', 'promoted_content': None, 'name': '#SundayMorning', 'url': 'http://twitter.com/search?q=%23SundayMorning', 'tweet_volume': 11285}, {'query': '%23WaysToBeAHero', 'promoted_content': None, 'name': '#WaysToBeAHero', 'url': 'http://twitter.com/search?q=%23WaysToBeAHero', 'tweet_volume': None}, {'query': '%22Roger+Federer%22', 'promoted_content': None, 'name': 'Roger Federer', 'url': 'http://twitter.com/search?q=%22Roger+Federer%22', 'tweet_volume': 241820}, {'query': '%23deleteuber', 'promoted_content': None, 'name': '#deleteuber', 'url': 'http://twitter.com/search?q=%23deleteuber', 'tweet_volume': 55394}, {'query': 'Yemen', 'promoted_content': None, 'name': 'Yemen', 'url': 'http://twitter.com/search?q=Yemen', 'tweet_volume': 112049}, {'query': '%23CNNSOTU', 'promoted_content': None, 'name': '#CNNSOTU', 'url': 'http://twitter.com/search?q=%23CNNSOTU', 'tweet_volume': None}, {'query': '%22Ann+Patchett%22', 'promoted_content': None, 'name': 'Ann Patchett', 'url': 'http://twitter.com/search?q=%22Ann+Patchett%22', 'tweet_volume': None}, {'query': 'Betis', 'promoted_content': None, 'name': 'Betis', 'url': 'http://twitter.com/search?q=Betis', 'tweet_volume': 97306}, {'query': '%22Cleveland+Clinic%22', 'promoted_content': None, 'name': 'Cleveland Clinic', 'url': 'http://twitter.com/search?q=%22Cleveland+Clinic%22', 'tweet_volume': None}, {'query': '%22Chris+Wallace%22', 'promoted_content': None, 'name': 'Chris Wallace', 'url': 'http://twitter.com/search?q=%22Chris+Wallace%22', 'tweet_volume': None}, {'query': '%22Mo+Farah%22', 'promoted_content': None, 'name': 'Mo Farah', 'url': 'http://twitter.com/search?q=%22Mo+Farah%22', 'tweet_volume': 67540}, {'query': '%22Deborah+Meier%22', 'promoted_content': None, 'name': 'Deborah Meier', 'url': 'http://twitter.com/search?q=%22Deborah+Meier%22', 'tweet_volume': None}, {'query': '%22Judge+Blocks+Trump+Order%22', 'promoted_content': None, 'name': 'Judge Blocks Trump Order', 'url': 'http://twitter.com/search?q=%22Judge+Blocks+Trump+Order%22', 'tweet_volume': None}, {'query': '%22Anwar+al-Awlaki%22', 'promoted_content': None, 'name': 'Anwar al-Awlaki', 'url': 'http://twitter.com/search?q=%22Anwar+al-Awlaki%22', 'tweet_volume': None}, {'query': 'Neymar', 'promoted_content': None, 'name': 'Neymar', 'url': 'http://twitter.com/search?q=Neymar', 'tweet_volume': 32131}, {'query': '%22Homeland+Security%22', 'promoted_content': None, 'name': 'Homeland Security', 'url': 'http://twitter.com/search?q=%22Homeland+Security%22', 'tweet_volume': 57698}, {'query': '%22Prince+Charles%22', 'promoted_content': None, 'name': 'Prince Charles', 'url': 'http://twitter.com/search?q=%22Prince+Charles%22', 'tweet_volume': None}, {'query': '%22Sen.+Rob+Portman%22', 'promoted_content': None, 'name': 'Sen. Rob Portman', 'url': 'http://twitter.com/search?q=%22Sen.+Rob+Portman%22', 'tweet_volume': None}, {'query': '%22Basil+Smotherman%22', 'promoted_content': None, 'name': 'Basil Smotherman', 'url': 'http://twitter.com/search?q=%22Basil+Smotherman%22', 'tweet_volume': None}, {'query': 'Giuliani', 'promoted_content': None, 'name': 'Giuliani', 'url': 'http://twitter.com/search?q=Giuliani', 'tweet_volume': 30438}, {'query': 'Juve', 'promoted_content': None, 'name': 'Juve', 'url': 'http://twitter.com/search?q=Juve', 'tweet_volume': 19143}, {'query': '%23NewButtonsToPush', 'promoted_content': None, 'name': '#NewButtonsToPush', 'url': 'http://twitter.com/search?q=%23NewButtonsToPush', 'tweet_volume': None}, {'query': '%23ThisWeek', 'promoted_content': None, 'name': '#ThisWeek', 'url': 'http://twitter.com/search?q=%23ThisWeek', 'tweet_volume': None}, {'query': '%23spiritchat', 'promoted_content': None, 'name': '#spiritchat', 'url': 'http://twitter.com/search?q=%23spiritchat', 'tweet_volume': None}, {'query': '%23HackLearning', 'promoted_content': None, 'name': '#HackLearning', 'url': 'http://twitter.com/search?q=%23HackLearning', 'tweet_volume': None}, {'query': '%23sunchat', 'promoted_content': None, 'name': '#sunchat', 'url': 'http://twitter.com/search?q=%23sunchat', 'tweet_volume': None}, {'query': '%23bieles2017', 'promoted_content': None, 'name': '#bieles2017', 'url': 'http://twitter.com/search?q=%23bieles2017', 'tweet_volume': None}, {'query': '%23Takeamovieouttoeat', 'promoted_content': None, 'name': '#Takeamovieouttoeat', 'url': 'http://twitter.com/search?q=%23Takeamovieouttoeat', 'tweet_volume': None}, {'query': '%23INDvENG', 'promoted_content': None, 'name': '#INDvENG', 'url': 'http://twitter.com/search?q=%23INDvENG', 'tweet_volume': 20042}, {'query': '%23FelizDomingo', 'promoted_content': None, 'name': '#FelizDomingo', 'url': 'http://twitter.com/search?q=%23FelizDomingo', 'tweet_volume': 16316}, {'query': '%23miamifamous', 'promoted_content': None, 'name': '#miamifamous', 'url': 'http://twitter.com/search?q=%23miamifamous', 'tweet_volume': None}, {'query': '%23VamosRafa', 'promoted_content': None, 'name': '#VamosRafa', 'url': 'http://twitter.com/search?q=%23VamosRafa', 'tweet_volume': 65484}, {'query': '%23insidepolitics', 'promoted_content': None, 'name': '#insidepolitics', 'url': 'http://twitter.com/search?q=%23insidepolitics', 'tweet_volume': None}, {'query': '%23UdineseMilan', 'promoted_content': None, 'name': '#UdineseMilan', 'url': 'http://twitter.com/search?q=%23UdineseMilan', 'tweet_volume': None}, {'query': '%23UnlikelyStarWarsEp9Titles', 'promoted_content': None, 'name': '#UnlikelyStarWarsEp9Titles', 'url': 'http://twitter.com/search?q=%23UnlikelyStarWarsEp9Titles', 'tweet_volume': None}, {'query': '%23KansasDay', 'promoted_content': None, 'name': '#KansasDay', 'url': 'http://twitter.com/search?q=%23KansasDay', 'tweet_volume': None}, {'query': '%23SerieA', 'promoted_content': None, 'name': '#SerieA', 'url': 'http://twitter.com/search?q=%23SerieA', 'tweet_volume': None}], 'locations': [{'woeid': 23424977, 'name': 'United States'}]}]\n"
     ]
    }
   ],
   "source": [
    "print(trending_us)"
   ]
  },
  {
   "cell_type": "markdown",
   "metadata": {},
   "source": [
    "Not super helpful. If you stared at this for a while, you could gradually parse what's going on. To make things easy, I'll just skip the messy stuff and inform you that:\n",
    "* ``trending_us`` is a list with one object\n",
    "* the one object in ``trending_us`` is a dictionary\n",
    "* most of the stuff we're interested in is in the dictionary at the key ``trends``"
   ]
  },
  {
   "cell_type": "code",
   "execution_count": 22,
   "metadata": {
    "collapsed": false
   },
   "outputs": [],
   "source": [
    "trends_usa_useful = trending_us[0]['trends']"
   ]
  },
  {
   "cell_type": "markdown",
   "metadata": {},
   "source": [
    "We're getting closer to useful data, but we're not 100% there yet. Here's what you need to know about the new ``trends_usa_useful`` variable.\n",
    "* ``trends_usa_useful`` is a *list of dictionaries*\n",
    "* Each dictionary in the list represents a trend\n",
    "* Each dictionary has teh following keys\n",
    " * ``tweet_volume``: how many tweets have this trend\n",
    " * ``query``: the query string for the trend\n",
    " * ``name``: the name of the trend\n",
    " * ``promoted_content``: whether or not this trend was promoted by a business\n",
    " * ``url``: the full URL for searching this trend\n",
    "Let's isolate the very first trend and see what it's about."
   ]
  },
  {
   "cell_type": "code",
   "execution_count": 23,
   "metadata": {
    "collapsed": false
   },
   "outputs": [
    {
     "name": "stdout",
     "output_type": "stream",
     "text": [
      "Name:\n",
      "#StopPresidentBannon\n",
      "Tweet volume:\n",
      "89147\n",
      "Query:\n",
      "%23StopPresidentBannon\n",
      "URL:\n",
      "http://twitter.com/search?q=%23StopPresidentBannon\n",
      "Promoted?:\n",
      "None\n"
     ]
    }
   ],
   "source": [
    "first_trend = trends_usa_useful[0]\n",
    "print(\"Name:\")\n",
    "print(first_trend['name'])\n",
    "print(\"Tweet volume:\")\n",
    "print(first_trend['tweet_volume'])\n",
    "print(\"Query:\")\n",
    "print(first_trend['query'])\n",
    "print(\"URL:\")\n",
    "print(first_trend['url'])\n",
    "print(\"Promoted?:\")\n",
    "print(first_trend['promoted_content'])"
   ]
  },
  {
   "cell_type": "markdown",
   "metadata": {},
   "source": [
    "In principle, using Tweepy the only things you really need are tweet volume and name. After all, you can just use the name as the value for the `q` parameter in `api.search` if you want to generate a list of Tweets. Here are the 5 trends in the US at the moment, and how big they are:"
   ]
  },
  {
   "cell_type": "code",
   "execution_count": 24,
   "metadata": {
    "collapsed": false
   },
   "outputs": [
    {
     "name": "stdout",
     "output_type": "stream",
     "text": [
      "#StopPresidentBannon 89147\n",
      "#SundayMorning 11285\n",
      "#WaysToBeAHero None\n",
      "Roger Federer 241820\n",
      "#deleteuber 55394\n"
     ]
    }
   ],
   "source": [
    "for trend in trends_usa_useful[:5]:\n",
    "    print(trend['name'], trend['tweet_volume'])"
   ]
  },
  {
   "cell_type": "markdown",
   "metadata": {},
   "source": [
    "**Note:** the tweet volume is for the last 24 hours, you're likely to see trends with a tweet volume of ``None`` if the data for them hasn't been collected yet. This means the trend is relatively recent.\n",
    "\n",
    "Since the trends objects are tricky, I broke that down into steps so you could follow along. Here's me finding out what's trending in Russia, but in more compact code:"
   ]
  },
  {
   "cell_type": "code",
   "execution_count": 25,
   "metadata": {
    "collapsed": false
   },
   "outputs": [
    {
     "name": "stdout",
     "output_type": "stream",
     "text": [
      "#ПотеряннаяФолловитВсех\n",
      "#ДеньБезИнтернета\n",
      "#WeWantMyChemicalRomanceBack\n",
      "#AusOpen\n",
      "Soho Rooms\n"
     ]
    }
   ],
   "source": [
    "trends_russia = api.trends_place(23424936)\n",
    "\n",
    "for trend in trends_russia[0]['trends'][:5]:\n",
    "    print(trend['name'])"
   ]
  },
  {
   "cell_type": "markdown",
   "metadata": {},
   "source": [
    "# Iterating through Large Lists in Tweepy\n",
    "\n",
    "Notice that whenever we call for a *list of something* in Tweety, there's a limit to what you can get. "
   ]
  },
  {
   "cell_type": "code",
   "execution_count": 26,
   "metadata": {
    "collapsed": false
   },
   "outputs": [
    {
     "name": "stdout",
     "output_type": "stream",
     "text": [
      "15\n",
      "20\n"
     ]
    }
   ],
   "source": [
    "search_results = api.search(q=\"#StarTrek50\")\n",
    "print(len(search_results))\n",
    "user = api.get_user(\"IUBloomington\")\n",
    "print(len(user.followers()))"
   ]
  },
  {
   "cell_type": "markdown",
   "metadata": {},
   "source": [
    "Obviously, there are not only 15 Tweets using the hashtag #StarTrek50 (one of the trending tags when I made this notebook). Obviously, IU Bloomington doesn't have only 20 followers.\n",
    "\n",
    "Think about how you would browse a list of search results or a list of followers of @IUBloomington manually, on the Twitter website. It doesn't show you all of the items at once. Instead, you see a *certain amount* of items, then when you scroll down you see the site dynamically load additional results. This is an understandable limitation built into the website: if this behavior wasn't implemented, every time someone looked at the list of Katy Perry's Twitter followers the site server would have to load up over 95 million names; quite a server load. \n",
    "\n",
    "This principle is in place when you are accessing Twitter's API as well. When you call for a list of results or users or statuses, it doesn't give you *all* the relevant items at once, because to do so would tax the server.\n",
    "\n",
    "Instead, you have to go through a list of results in an iterative fashion. This is akin to *website pagination*, like when you look at at list of Google Search results, scroll down, and then click to the \"next page of results\". So if you want to get the first 1000 statuses that have a trending hashtag, you'll have to iterate through several \"pages\" of results. \n",
    "\n",
    "Each time you access a new \"page\" in a list of results, this will decrease the limited number of requests that Twitter allows each API client every 15 minutes. This limitation is known as Twitter's *rate limit* and it's imposed on every client that uses its API. \n",
    "\n",
    "Normally, you'd have to laboriously keep track of how many requests you are making and how many requests you have left. Fortunately, Tweepy helps us get around this in two ways. Remember that when we first initialized our ``api`` object, we set the parameters ``wait_on_rate_limit`` and ``wait_on_rate_limit_notify`` to ``True``. This means that if we do something taxing using this particular ``api`` object, it's smart enough to keep track of how many requests you have left, and to wait the proper amount of time before continuing to iterate through the results. \n",
    "\n",
    "The second thing we have to do is rely on a special Tweepy method called ``Cursor``. It's a bit more difficulty to use the cursor instead of the usual methods we learned above, but ultimately it'll serve you better if you're trying to get a large amount of Social Media data. Let's see how it works. \n",
    "\n",
    "First, we initialize a ``tweepy.Cursor`` object. But! ``Cursor`` is a method that takes an argument. That argument is the **method you want to iterate over**. \n",
    "\n",
    "```Python\n",
    "c = tweepy.Cursor(api.search)\n",
    "```\n",
    "\n",
    "Now, you might notice something unusual here. ``api.search`` is the argument we're passing to ``Cursor``, but it is, itself, a method that requires its own arguments. ``api.search`` needs to know what you're looking for: the ``q`` parameter. However, note that the arguments to the methods being passed should be passed as *additional arguments to the Cursor object*. "
   ]
  },
  {
   "cell_type": "code",
   "execution_count": 27,
   "metadata": {
    "collapsed": true
   },
   "outputs": [],
   "source": [
    "c = tweepy.Cursor(api.search, q=\"#Rio\", lang=\"en\")"
   ]
  },
  {
   "cell_type": "markdown",
   "metadata": {},
   "source": [
    "Look carefully at the above code. Rather than passing the relevant arguments to ``api.search``, we're passing them as additional arguments to the Cursor object. \n",
    "\n",
    "Once we have the Cursor object, we call its ``items()`` method. The ``items()`` method takes the number of results you ultimately want to get. \n",
    "\n",
    "Usually, since you're handling a lot of results, you don't want to store the result of ``c.items(500)`` in a new variable. Instead, you want to immediately iterate through it using a ``for`` loop. This means that Python won't have to summon from Twitter all 500 (1000, 10000, etc) results in its environment at the same time. If you use ``c`` in a for loop, it can pull items from Twitter one at a time. \n",
    "\n",
    "You'll probably want to initialize some empty list to store the results of the iteration. "
   ]
  },
  {
   "cell_type": "code",
   "execution_count": 28,
   "metadata": {
    "collapsed": true
   },
   "outputs": [],
   "source": [
    "tweet_store = []\n",
    "\n",
    "for status in c.items(500):\n",
    "    tweet_store.append(status.text)"
   ]
  },
  {
   "cell_type": "markdown",
   "metadata": {},
   "source": [
    "Via this method, we've successfully obtained the texts of 500 Tweets that are in English and contain the hashtag #rio."
   ]
  },
  {
   "cell_type": "code",
   "execution_count": 29,
   "metadata": {
    "collapsed": false
   },
   "outputs": [
    {
     "name": "stdout",
     "output_type": "stream",
     "text": [
      "500\n",
      "['Bikinis sure are small in #Rio. Different view of #Copacabana #beach https://t.co/Fhy7Vrx40l #Brazil #TravelBoldly', '4 U.S swimmers in #Olympic accused of false testimonies #Rio #vc #funding #startup #vc https://t.co/oqfTs9j6O6 https://t.co/e577qyd4c9']\n"
     ]
    }
   ],
   "source": [
    "print(len(tweet_store))\n",
    "print(tweet_store[:2])"
   ]
  },
  {
   "cell_type": "markdown",
   "metadata": {},
   "source": [
    "Note that you could put numbers greater than 500 here, but that it will quite possibly take a long time. This will not be due to technical reasons; it will mostly be the result of Tweepy pausing when you are hitting your rate limit and waiting as long as necessary before you're in the green again. \n",
    "\n",
    "There are two options for handling this time problem. Either, early on, you download as much of the relevant data you have as possible, then save the data and work exclusively with that data moving forward. The advantage of this approach is that you have all the data you need for training the model, the disadvantage is that once you've gotten the data you're \"stuck\" with it. The other approach is to download a small, tractable set of data at first and then build your code for processing and analyzing the data. Once everything is in place, then you download a large set of data and then run everything on it. The advantage is that you can dedicate your time to developing your model and you can have the \"newest data possible\", the disadvantage is that you may run into unanticipated problems with your code once you get the final dataset - sure, it may work smoothly on your earlier, smaller dataset but then something unexpected may come up once you're working with the bigger data."
   ]
  },
  {
   "cell_type": "markdown",
   "metadata": {
    "collapsed": true
   },
   "source": [
    "# Getting a User's Tweets"
   ]
  },
  {
   "cell_type": "markdown",
   "metadata": {},
   "source": [
    "Up to this point, we've only been getting tweets as response to a particular query - a search term or a hashtag. The ``api`` we have created, however, also has a method called ``user_timeline`` that allows us to collect tweets from a single user. Using what we've just learned about the cursor objects, we can therefore use ``user_timeline`` to get a specified amount of the user's most recent tweets. "
   ]
  },
  {
   "cell_type": "code",
   "execution_count": 31,
   "metadata": {
    "collapsed": true
   },
   "outputs": [],
   "source": [
    "c = tweepy.Cursor(api.user_timeline, id=\"IndianaMBB\") # Instead of api.search, pass api.user_timeline\n",
    "\n",
    "tweet_store = []\n",
    "for status in c.items(500):\n",
    "    tweet_store.append(status.text)"
   ]
  },
  {
   "cell_type": "code",
   "execution_count": 32,
   "metadata": {
    "collapsed": false
   },
   "outputs": [
    {
     "name": "stdout",
     "output_type": "stream",
     "text": [
      "500\n"
     ]
    }
   ],
   "source": [
    "print(len(tweet_store))"
   ]
  },
  {
   "cell_type": "code",
   "execution_count": 33,
   "metadata": {
    "collapsed": false
   },
   "outputs": [
    {
     "name": "stdout",
     "output_type": "stream",
     "text": [
      "['GAMEDAY!!!\\n📍: Evanston, Ill.\\n⏰: 6:30 p.m. ET\\n📺: Big Ten Network https://t.co/0JZ6BNcErd', 'Coach Crean with an update on James Blackmon Jr. https://t.co/UL2WP5CVLS']\n"
     ]
    }
   ],
   "source": [
    "print(tweet_store[:2])"
   ]
  }
 ],
 "metadata": {
  "anaconda-cloud": {},
  "kernelspec": {
   "display_name": "Python 3",
   "language": "python",
   "name": "python3"
  },
  "language_info": {
   "codemirror_mode": {
    "name": "ipython",
    "version": 3
   },
   "file_extension": ".py",
   "mimetype": "text/x-python",
   "name": "python",
   "nbconvert_exporter": "python",
   "pygments_lexer": "ipython3",
   "version": "3.6.0"
  }
 },
 "nbformat": 4,
 "nbformat_minor": 0
}
